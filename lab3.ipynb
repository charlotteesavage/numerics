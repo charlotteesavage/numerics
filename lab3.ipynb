{
 "cells": [
  {
   "cell_type": "code",
   "execution_count": null,
   "metadata": {
    "ExecuteTime": {
     "end_time": "2019-02-20T09:20:41.217138Z",
     "start_time": "2019-02-20T09:20:41.070682Z"
    }
   },
   "outputs": [],
   "source": [
    "# Initialisation Cell\n",
    "from matplotlib import pyplot as plt\n",
    "from math import *\n",
    "import numpy as np\n",
    "import numpy.testing as nt\n",
    "np.set_printoptions(suppress=True, precision=6)"
   ]
  },
  {
   "cell_type": "markdown",
   "metadata": {
    "deletable": false,
    "editable": false,
    "nbgrader": {
     "cell_type": "markdown",
     "checksum": "db21cc3216c1c78c596c991ca0e62999",
     "grade": false,
     "grade_id": "cell-fd5749c27fb88f93",
     "locked": true,
     "schema_version": 3,
     "solution": false
    }
   },
   "source": [
    "# Numerical Analysis III - Lab 3\n",
    "\n",
    "\n",
    "## Instructions\n",
    "\n",
    "* Read all the instructions carefully.\n",
    "* **Numpy** has a help file for every function if you get stuck. See: https://docs.scipy.org/doc/numpy-1.15.4/reference/\n",
    "* See these useful links:\n",
    "    * https://docs.scipy.org/doc/numpy/user/numpy-for-matlab-users.html\n",
    "    * https://docs.scipy.org/doc/numpy/user/quickstart.html\n",
    "* **Numpy** is not always required.\n",
    "* There are also numerous sources available on the internet, Google is your friend!"
   ]
  },
  {
   "cell_type": "markdown",
   "metadata": {
    "deletable": false,
    "editable": false,
    "nbgrader": {
     "cell_type": "markdown",
     "checksum": "0099330a77d99216d5801ec98217c093",
     "grade": false,
     "grade_id": "cell-4c7ff9a9bc43ebbc",
     "locked": true,
     "schema_version": 3,
     "solution": false
    }
   },
   "source": [
    "# Warm-up Exercises\n",
    "\n",
    "Complete the following warm-up tasks without the use of numpy.\n",
    "\n",
    "## Question 1\n",
    "\n",
    "Write a function that takes in a binary array of length `n`. The function must compute the minimum number of steps to navigate the array, where zero elements are values that may be traversed and ones **taboo** and must be avoided. The maximum size of the step allowable is 2, i.e. a shift of 1 or 2. For example, if $c = [0, 1, 0, 0, 0, 1, 0]$ indexed from $0, \\ldots, 6$. The possible paths are $0 \\rightarrow 2 \\rightarrow 4 \\rightarrow 6$ or $0 \\rightarrow 2 \\rightarrow 3 \\rightarrow 4 \\rightarrow 6$. The first path requires 3 shifts and the second 4 shifts. Therefore, the function should return the shortest number of shifts."
   ]
  },
  {
   "cell_type": "code",
   "execution_count": null,
   "metadata": {
    "ExecuteTime": {
     "end_time": "2019-02-21T08:43:09.451443Z",
     "start_time": "2019-02-21T08:43:09.444311Z"
    },
    "deletable": false,
    "nbgrader": {
     "cell_type": "code",
     "checksum": "e002de036cf8c916c2d24e93bf5f1908",
     "grade": false,
     "grade_id": "cell-e90753999f991276",
     "locked": false,
     "schema_version": 3,
     "solution": true
    }
   },
   "outputs": [],
   "source": [
    "# Question 1\n",
    "def jumping(c):\n",
    "    # YOUR CODE HERE\n",
    "    raise NotImplementedError()"
   ]
  },
  {
   "cell_type": "code",
   "execution_count": null,
   "metadata": {
    "ExecuteTime": {
     "end_time": "2019-02-21T08:43:38.508400Z",
     "start_time": "2019-02-21T08:43:38.503171Z"
    },
    "deletable": false,
    "editable": false,
    "nbgrader": {
     "cell_type": "code",
     "checksum": "18da01d8902b2bacc82bc3f108ad1247",
     "grade": true,
     "grade_id": "cell-461a79a8dfe5b687",
     "locked": true,
     "points": 1,
     "schema_version": 3,
     "solution": false
    }
   },
   "outputs": [],
   "source": [
    "# Run this test cell to check your code\n",
    "# Do not delete this cell\n",
    "# 1 mark\n",
    "# Unit test\n",
    "c = [0, 1, 0, 0, 0, 1, 0]\n",
    "assert(jumping(c) == 3)\n",
    "print('Test case passed!!!')"
   ]
  },
  {
   "cell_type": "code",
   "execution_count": null,
   "metadata": {
    "ExecuteTime": {
     "end_time": "2019-02-21T08:45:05.607400Z",
     "start_time": "2019-02-21T08:45:05.603296Z"
    },
    "deletable": false,
    "editable": false,
    "nbgrader": {
     "cell_type": "code",
     "checksum": "e10bc0bc0b2a93cc06988a9c32229330",
     "grade": true,
     "grade_id": "cell-88e41979df52f5fb",
     "locked": true,
     "points": 4,
     "schema_version": 3,
     "solution": false
    }
   },
   "outputs": [],
   "source": [
    "# Hidden test\n",
    "# No output will be produced\n",
    "# 4 marks"
   ]
  },
  {
   "cell_type": "markdown",
   "metadata": {
    "deletable": false,
    "editable": false,
    "nbgrader": {
     "cell_type": "markdown",
     "checksum": "a40cc7b53322c358e8d632132b7a8fc4",
     "grade": false,
     "grade_id": "cell-7b09209893931686",
     "locked": true,
     "schema_version": 3,
     "solution": false
    }
   },
   "source": [
    "## Question 2\n",
    "\n",
    "Write a function that takes in two arrays and determines all integers satisfying the following:\n",
    "* The elements of the first array that are all factors of the integer being considered.\n",
    "* The integer being considered is a factor of all elements in the second array. \n",
    "    \n",
    "Your function must the amount of such numbers. For example, if $a = [2, 6]$ and $b = [24, 36]$, there are 2 numbers between them: 6 and 12, i.e. 6 % 2 = 0, 6 % 6 = 0, 24 % 6 = 0 and 36 % 6 for the first value. Similarly, 12 % 2 = 0, 12 % 6 = 0,  24 % 12 = 0 and 36 % 12 = 0."
   ]
  },
  {
   "cell_type": "code",
   "execution_count": null,
   "metadata": {
    "ExecuteTime": {
     "end_time": "2019-02-21T08:48:46.306205Z",
     "start_time": "2019-02-21T08:48:46.299678Z"
    },
    "deletable": false,
    "nbgrader": {
     "cell_type": "code",
     "checksum": "0a5dcde9bd6ee5f68802c3b1d9fcead4",
     "grade": false,
     "grade_id": "cell-d952af01780c2829",
     "locked": false,
     "schema_version": 3,
     "solution": true
    }
   },
   "outputs": [],
   "source": [
    "# Question 2\n",
    "def getTotalX(a, b):\n",
    "    # YOUR CODE HERE\n",
    "    raise NotImplementedError()"
   ]
  },
  {
   "cell_type": "code",
   "execution_count": null,
   "metadata": {
    "ExecuteTime": {
     "end_time": "2019-02-21T08:52:17.446501Z",
     "start_time": "2019-02-21T08:52:17.440610Z"
    },
    "deletable": false,
    "editable": false,
    "nbgrader": {
     "cell_type": "code",
     "checksum": "ade38a2c31894ef1acece8c912c075e0",
     "grade": true,
     "grade_id": "cell-e94fea2c36d576b8",
     "locked": true,
     "points": 1,
     "schema_version": 3,
     "solution": false
    }
   },
   "outputs": [],
   "source": [
    "# Run this test cell to check your code\n",
    "# Do not delete this cell\n",
    "# 1 mark\n",
    "# Unit test\n",
    "a = [2, 6]\n",
    "b = [24, 36]\n",
    "assert(getTotalX(a, b) == 2)\n",
    "print('Test case passed!!!')"
   ]
  },
  {
   "cell_type": "code",
   "execution_count": null,
   "metadata": {
    "ExecuteTime": {
     "end_time": "2019-02-21T08:52:58.373610Z",
     "start_time": "2019-02-21T08:52:58.367571Z"
    },
    "deletable": false,
    "editable": false,
    "nbgrader": {
     "cell_type": "code",
     "checksum": "0d20274ef8f4c0ad75605758c1b0a66c",
     "grade": true,
     "grade_id": "cell-cc0db9a5d2599d4c",
     "locked": true,
     "points": 4,
     "schema_version": 3,
     "solution": false
    }
   },
   "outputs": [],
   "source": [
    "# Hidden test\n",
    "# No output will be produced\n",
    "# 4 marks"
   ]
  },
  {
   "cell_type": "markdown",
   "metadata": {
    "deletable": false,
    "editable": false,
    "nbgrader": {
     "cell_type": "markdown",
     "checksum": "bf02da5fdef2d51784a3a474946da0e1",
     "grade": false,
     "grade_id": "cell-64c58cf7d4cbc82b",
     "locked": true,
     "schema_version": 3,
     "solution": false
    }
   },
   "source": [
    "## Question 3\n",
    "\n",
    "Write a function that takes as inputs, a word (as a string) and an array of letter heights. The function must compute the area required to highlight the entire word. For example, if the string is `'abc'`, and the specific heights of `a`, `b` and `c` are 1, 3, and 1 mm respectively - then the background area to highlight the entire string is the length of the string times the maximum height, therefore $3 \\times 3 = 9$mm."
   ]
  },
  {
   "cell_type": "code",
   "execution_count": null,
   "metadata": {
    "ExecuteTime": {
     "end_time": "2019-02-21T08:56:30.449158Z",
     "start_time": "2019-02-21T08:56:30.443490Z"
    },
    "deletable": false,
    "nbgrader": {
     "cell_type": "code",
     "checksum": "294e144efaff89e9bb1301bb48edab28",
     "grade": false,
     "grade_id": "cell-d01708c3941de3e3",
     "locked": false,
     "schema_version": 3,
     "solution": true
    }
   },
   "outputs": [],
   "source": [
    "# Question 3\n",
    "\n",
    "def highlighter(h, word):\n",
    "    # YOUR CODE HERE\n",
    "    raise NotImplementedError()\n",
    "\n"
   ]
  },
  {
   "cell_type": "code",
   "execution_count": null,
   "metadata": {
    "ExecuteTime": {
     "end_time": "2019-02-21T08:56:31.452512Z",
     "start_time": "2019-02-21T08:56:31.447599Z"
    },
    "deletable": false,
    "editable": false,
    "nbgrader": {
     "cell_type": "code",
     "checksum": "15d3d42ba0c0f0695f1662975c39035a",
     "grade": true,
     "grade_id": "cell-e6e9bbd510e10288",
     "locked": true,
     "points": 1,
     "schema_version": 3,
     "solution": false
    }
   },
   "outputs": [],
   "source": [
    "# Run this test cell to check your code\n",
    "# Do not delete this cell\n",
    "# 1 mark\n",
    "# Unit test\n",
    "test = 'abc'\n",
    "h    = [1, 3, 1, 3, 1, 4, 1, 3, 2, 5, 5, 5, 5, 5, 5, 5, 5, 5, 5, 5, 5, 5, 5, 5, 5, 7]\n",
    "assert(highlighter(h, test) == 9)\n",
    "print('Test case passed!!!')"
   ]
  },
  {
   "cell_type": "code",
   "execution_count": null,
   "metadata": {
    "ExecuteTime": {
     "end_time": "2019-02-21T08:56:31.896138Z",
     "start_time": "2019-02-21T08:56:31.890894Z"
    },
    "deletable": false,
    "editable": false,
    "nbgrader": {
     "cell_type": "code",
     "checksum": "e278689cf7d9b4dff3ca8d7a4491b709",
     "grade": true,
     "grade_id": "cell-aab8ed33c4131a5c",
     "locked": true,
     "points": 4,
     "schema_version": 3,
     "solution": false
    }
   },
   "outputs": [],
   "source": [
    "# Hidden test\n",
    "# No output will be produced\n",
    "# 4 marks"
   ]
  },
  {
   "cell_type": "markdown",
   "metadata": {
    "deletable": false,
    "editable": false,
    "nbgrader": {
     "cell_type": "markdown",
     "checksum": "8b8f908cf691e3b29988f814c8614b70",
     "grade": false,
     "grade_id": "cell-3a403b8564f7f65d",
     "locked": true,
     "schema_version": 3,
     "solution": false
    }
   },
   "source": [
    "## Main Exercises\n",
    "\n",
    "Complete the following problems:\n",
    "\n",
    "## Question 1\n",
    "\n",
    "Write a function that computes the chebyshev polynomial of degree `n` on the vector domain `x`. The function should return the $y(x)$ corresponding to the vector input `x`."
   ]
  },
  {
   "cell_type": "code",
   "execution_count": null,
   "metadata": {
    "ExecuteTime": {
     "end_time": "2019-02-21T08:58:43.381424Z",
     "start_time": "2019-02-21T08:58:43.375405Z"
    },
    "deletable": false,
    "nbgrader": {
     "cell_type": "code",
     "checksum": "060fb57d99ce8a8f8984cc38e84bf649",
     "grade": false,
     "grade_id": "cell-dae3990afd85b835",
     "locked": false,
     "schema_version": 3,
     "solution": true
    }
   },
   "outputs": [],
   "source": [
    "def chebyshev(n, x):\n",
    "    # YOUR CODE HERE\n",
    "    raise NotImplementedError()"
   ]
  },
  {
   "cell_type": "code",
   "execution_count": null,
   "metadata": {
    "ExecuteTime": {
     "end_time": "2019-02-21T09:01:41.516769Z",
     "start_time": "2019-02-21T09:01:41.508919Z"
    },
    "deletable": false,
    "editable": false,
    "nbgrader": {
     "cell_type": "code",
     "checksum": "9ebfd0a689e0af7fcd8d4037583f3563",
     "grade": true,
     "grade_id": "cell-b6c3f19eb0fec04f",
     "locked": true,
     "points": 1,
     "schema_version": 3,
     "solution": false
    }
   },
   "outputs": [],
   "source": [
    "# Run this test cell to check your code\n",
    "# Do not delete this cell\n",
    "# 1 mark\n",
    "# Unit test\n",
    "n = 3\n",
    "x = np.arange(-1, 1.05, 0.05)\n",
    "t1 = np.array([-1.    , -0.5795, -0.216 ,  0.0935,  0.352 ,  0.5625,  0.728 ,\n",
    "            0.8515,  0.936 ,  0.9845,  1.    ,  0.9855,  0.944 ,  0.8785,\n",
    "            0.792 ,  0.6875,  0.568 ,  0.4365,  0.296 ,  0.1495, -0.    ,\n",
    "           -0.1495, -0.296 , -0.4365, -0.568 , -0.6875, -0.792 , -0.8785,\n",
    "           -0.944 , -0.9855, -1.    , -0.9845, -0.936 , -0.8515, -0.728 ,\n",
    "           -0.5625, -0.352 , -0.0935,  0.216 ,  0.5795,  1.    ])\n",
    "nt.assert_almost_equal(t1, chebyshev(n, x))\n",
    "print('Test case passed!!!')"
   ]
  },
  {
   "cell_type": "code",
   "execution_count": null,
   "metadata": {
    "ExecuteTime": {
     "end_time": "2019-02-21T09:02:33.863127Z",
     "start_time": "2019-02-21T09:02:33.854808Z"
    },
    "deletable": false,
    "editable": false,
    "nbgrader": {
     "cell_type": "code",
     "checksum": "02043d895e50d54fa869c80777fce0f7",
     "grade": true,
     "grade_id": "cell-cde2778033df39d4",
     "locked": true,
     "points": 9,
     "schema_version": 3,
     "solution": false
    }
   },
   "outputs": [],
   "source": [
    "# Hidden test\n",
    "# No output will be produced\n",
    "# 9 marks"
   ]
  },
  {
   "cell_type": "markdown",
   "metadata": {
    "deletable": false,
    "editable": false,
    "nbgrader": {
     "cell_type": "markdown",
     "checksum": "8d94c46d6d945aed4d3e60452760e6e1",
     "grade": false,
     "grade_id": "cell-47cccc4dcac1cc15",
     "locked": true,
     "schema_version": 3,
     "solution": false
    }
   },
   "source": [
    "## Question 2\n",
    "\n",
    "Write a function which approximates functions using chebyshev polynomials. The function should take as inputs, an anonymous function `f` (to be approximated), the degree of approximation `n` and the domain vector `x`."
   ]
  },
  {
   "cell_type": "code",
   "execution_count": null,
   "metadata": {
    "ExecuteTime": {
     "end_time": "2019-02-21T09:04:17.886442Z",
     "start_time": "2019-02-21T09:04:17.874884Z"
    },
    "deletable": false,
    "nbgrader": {
     "cell_type": "code",
     "checksum": "3c9315fd0bd683dd8599731a6318d34b",
     "grade": false,
     "grade_id": "cell-e4ca5b4d33af2efd",
     "locked": false,
     "schema_version": 3,
     "solution": true
    }
   },
   "outputs": [],
   "source": [
    "# Question 2\n",
    "def chebApprox(n, x, f):\n",
    "    # YOUR CODE HERE\n",
    "    raise NotImplementedError()"
   ]
  },
  {
   "cell_type": "code",
   "execution_count": null,
   "metadata": {
    "ExecuteTime": {
     "end_time": "2019-02-21T09:08:42.858900Z",
     "start_time": "2019-02-21T09:08:42.832677Z"
    },
    "deletable": false,
    "editable": false,
    "nbgrader": {
     "cell_type": "code",
     "checksum": "0cd4ac19e5a108a587845107714d2905",
     "grade": true,
     "grade_id": "cell-b7674d918052a70d",
     "locked": true,
     "points": 1,
     "schema_version": 3,
     "solution": false
    }
   },
   "outputs": [],
   "source": [
    "# Run this test cell to check your code\n",
    "# Do not delete this cell\n",
    "# 1 mark\n",
    "# Unit test\n",
    "f  = lambda x: np.sin(4*x)\n",
    "n  = 5\n",
    "x  = np.arange(-1, 1.1, 0.1)\n",
    "t1 = np.array([ 0.728256,  0.471712,  0.066241, -0.35664 , -0.705994, -0.926386,\n",
    "               -0.992816, -0.905643, -0.685516, -0.368298, -0.      ,  0.368298,\n",
    "                0.685516,  0.905643,  0.992816,  0.926386,  0.705994,  0.35664 ,\n",
    "               -0.066241, -0.471712, -0.728256])\n",
    "nt.assert_array_almost_equal(t1, chebApprox(5, x, f))\n",
    "print('Test case passed!!!')"
   ]
  },
  {
   "cell_type": "code",
   "execution_count": null,
   "metadata": {
    "ExecuteTime": {
     "end_time": "2019-02-21T09:10:48.138095Z",
     "start_time": "2019-02-21T09:10:48.115911Z"
    },
    "deletable": false,
    "editable": false,
    "nbgrader": {
     "cell_type": "code",
     "checksum": "c21d8a08874a818222ee3593c740a82f",
     "grade": true,
     "grade_id": "cell-b72f8afa93322e2c",
     "locked": true,
     "points": 9,
     "schema_version": 3,
     "solution": false
    }
   },
   "outputs": [],
   "source": [
    "# Hidden test\n",
    "# No output will be produced\n",
    "# 9 marks"
   ]
  },
  {
   "cell_type": "markdown",
   "metadata": {
    "deletable": false,
    "editable": false,
    "nbgrader": {
     "cell_type": "markdown",
     "checksum": "4fbc95e14556b9c88338cedc652e2bd8",
     "grade": false,
     "grade_id": "cell-d3cc78dd3dcfc8a5",
     "locked": true,
     "schema_version": 3,
     "solution": false,
     "task": false
    }
   },
   "source": [
    "## Question 3 \n",
    "Write a function which implements Gaussian Quadrature. Your function should take as inputs, n the order of the Legendre polynomial to use, and f the integrand to be integrated. You may assume that the integrand f has already been transformed to the standard interval.\n"
   ]
  },
  {
   "cell_type": "code",
   "execution_count": null,
   "metadata": {
    "deletable": false,
    "nbgrader": {
     "cell_type": "code",
     "checksum": "e298c7831f5f04227f5105c28659f95e",
     "grade": false,
     "grade_id": "cell-306d65709af581eb",
     "locked": false,
     "schema_version": 3,
     "solution": true,
     "task": false
    }
   },
   "outputs": [],
   "source": [
    "def gaussianQuadrature(n, f):\n",
    "    # YOUR CODE HERE\n",
    "    raise NotImplementedError()"
   ]
  },
  {
   "cell_type": "code",
   "execution_count": null,
   "metadata": {
    "deletable": false,
    "editable": false,
    "nbgrader": {
     "cell_type": "code",
     "checksum": "ad00186ed5385a762d49778e59487c30",
     "grade": true,
     "grade_id": "cell-576ba910561effa6",
     "locked": true,
     "points": 2,
     "schema_version": 3,
     "solution": false,
     "task": false
    }
   },
   "outputs": [],
   "source": [
    "# Run this test cell to check your code\n",
    "# Do not delete this cell\n",
    "# Unit test\n",
    "f     = lambda t: (4*t + 4)*np.exp(4*t + 4)\n",
    "ans   = gaussianQuadrature(2, f)\n",
    "t1    = 3477.5439362670827\n",
    "nt.assert_almost_equal(ans, t1)\n",
    "print('Test case passed!!!')"
   ]
  },
  {
   "cell_type": "code",
   "execution_count": null,
   "metadata": {
    "deletable": false,
    "editable": false,
    "nbgrader": {
     "cell_type": "code",
     "checksum": "42c8c2b9ab8959fb47b9c43c874c727e",
     "grade": true,
     "grade_id": "cell-ed7cf80d3410d493",
     "locked": true,
     "points": 13,
     "schema_version": 3,
     "solution": false,
     "task": false
    }
   },
   "outputs": [],
   "source": [
    "# Hidden test\n",
    "# No output will be produced\n",
    "# 13 marks"
   ]
  }
 ],
 "metadata": {
  "@webio": {
   "lastCommId": "eaeb54b85d7d4aed97b5b714fefbe5b6",
   "lastKernelId": "165d59ec-af97-4642-a1a1-55c4eadb8c32"
  },
  "kernelspec": {
   "display_name": "Python 3",
   "language": "python",
   "name": "python3"
  },
  "language_info": {
   "codemirror_mode": {
    "name": "ipython",
    "version": 3
   },
   "file_extension": ".py",
   "mimetype": "text/x-python",
   "name": "python",
   "nbconvert_exporter": "python",
   "pygments_lexer": "ipython3",
   "version": "3.7.6"
  },
  "latex_envs": {
   "LaTeX_envs_menu_present": true,
   "autoclose": false,
   "autocomplete": true,
   "bibliofile": "biblio.bib",
   "cite_by": "apalike",
   "current_citInitial": 1,
   "eqLabelWithNumbers": true,
   "eqNumInitial": 1,
   "hotkeys": {
    "equation": "Ctrl-E",
    "itemize": "Ctrl-I"
   },
   "labels_anchors": false,
   "latex_user_defs": false,
   "report_style_numbering": false,
   "user_envs_cfg": false
  },
  "varInspector": {
   "cols": {
    "lenName": 16,
    "lenType": 16,
    "lenVar": 40
   },
   "kernels_config": {
    "python": {
     "delete_cmd_postfix": "",
     "delete_cmd_prefix": "del ",
     "library": "var_list.py",
     "varRefreshCmd": "print(var_dic_list())"
    },
    "r": {
     "delete_cmd_postfix": ") ",
     "delete_cmd_prefix": "rm(",
     "library": "var_list.r",
     "varRefreshCmd": "cat(var_dic_list()) "
    }
   },
   "types_to_exclude": [
    "module",
    "function",
    "builtin_function_or_method",
    "instance",
    "_Feature"
   ],
   "window_display": false
  }
 },
 "nbformat": 4,
 "nbformat_minor": 2
}
