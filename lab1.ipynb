{
 "cells": [
  {
   "cell_type": "code",
   "execution_count": 2,
   "metadata": {
    "ExecuteTime": {
     "end_time": "2019-02-06T06:08:02.291262Z",
     "start_time": "2019-02-06T06:08:02.100787Z"
    }
   },
   "outputs": [],
   "source": [
    "# Initialisation Cell\n",
    "from matplotlib import pyplot as plt\n",
    "import math\n",
    "from math import *\n",
    "import numpy as np\n",
    "from numpy import linalg as LA\n",
    "import numpy.testing as nt"
   ]
  },
  {
   "cell_type": "markdown",
   "metadata": {
    "deletable": false,
    "editable": false,
    "nbgrader": {
     "cell_type": "markdown",
     "checksum": "1554255315d21bd89b31f1d39ccd7c6b",
     "grade": false,
     "grade_id": "cell-f244427058bc1733",
     "locked": true,
     "schema_version": 3,
     "solution": false
    }
   },
   "source": [
    "# Numerical Analysis III - Lab 1\n",
    "\n",
    "\n",
    "## Instructions\n",
    "\n",
    "* Read all the instructions carefully.\n",
    "* **Numpy** has a help file for every function if you get stuck. See: https://docs.scipy.org/doc/numpy-1.15.4/reference/\n",
    "* See these useful links:\n",
    "    * https://docs.scipy.org/doc/numpy/user/numpy-for-matlab-users.html\n",
    "    * https://docs.scipy.org/doc/numpy/user/quickstart.html\n",
    "* **Numpy** is not always required.\n",
    "* There are also numerous sources available on the internet, Google is your friend!"
   ]
  },
  {
   "cell_type": "markdown",
   "metadata": {
    "deletable": false,
    "editable": false,
    "nbgrader": {
     "cell_type": "markdown",
     "checksum": "065b58da3ce992ff615a6a2c88440101",
     "grade": false,
     "grade_id": "cell-b3e89c83cdbfd394",
     "locked": true,
     "schema_version": 3,
     "solution": false
    }
   },
   "source": [
    "# Warm-up Exercises\n",
    "\n",
    "Complete the following warm-up tasks without the use of numpy.\n",
    "\n",
    "## Question 1\n",
    "\n",
    "Given an array of integers, write a function to compute the sum of its elements. You may not use the `sum` function."
   ]
  },
  {
   "cell_type": "code",
   "execution_count": 7,
   "metadata": {
    "ExecuteTime": {
     "end_time": "2019-02-06T06:08:05.185563Z",
     "start_time": "2019-02-06T06:08:05.182135Z"
    },
    "deletable": false,
    "nbgrader": {
     "cell_type": "code",
     "checksum": "d8f5e6f73320edcce250599eed2e36e1",
     "grade": false,
     "grade_id": "cell-dd4f4abacf2c1358",
     "locked": false,
     "schema_version": 3,
     "solution": true
    }
   },
   "outputs": [],
   "source": [
    "# Question 1\n",
    "def simpleArraySum(ar):\n",
    "    sumup=0\n",
    "    length = len(ar)\n",
    "    for num in ar:\n",
    "        sumup +=num\n",
    "    \n",
    "    return sumup\n",
    "        \n",
    "    raise NotImplementedError()"
   ]
  },
  {
   "cell_type": "code",
   "execution_count": 8,
   "metadata": {
    "ExecuteTime": {
     "end_time": "2019-02-06T06:08:05.577823Z",
     "start_time": "2019-02-06T06:08:05.573606Z"
    },
    "deletable": false,
    "editable": false,
    "nbgrader": {
     "cell_type": "code",
     "checksum": "05a55216f315bcdba6b5b2fb5d2e455e",
     "grade": true,
     "grade_id": "cell-57df763d59cc738e",
     "locked": true,
     "points": 1,
     "schema_version": 3,
     "solution": false
    }
   },
   "outputs": [
    {
     "name": "stdout",
     "output_type": "stream",
     "text": [
      "Test case passed!!!\n"
     ]
    }
   ],
   "source": [
    "# Run this test cell to check your code\n",
    "# Do not delete this cell\n",
    "# 1 mark\n",
    "# Unit test\n",
    "test = [1, 2, 3 , 4, 10, 11]\n",
    "assert(simpleArraySum(test) == 31)\n",
    "print('Test case passed!!!')"
   ]
  },
  {
   "cell_type": "code",
   "execution_count": 9,
   "metadata": {
    "ExecuteTime": {
     "end_time": "2019-02-06T06:08:06.211281Z",
     "start_time": "2019-02-06T06:08:06.206396Z"
    },
    "deletable": false,
    "editable": false,
    "nbgrader": {
     "cell_type": "code",
     "checksum": "3c15482604f6c584ed9eabbd27695925",
     "grade": true,
     "grade_id": "cell-5609a53f91ced436",
     "locked": true,
     "points": 4,
     "schema_version": 3,
     "solution": false
    }
   },
   "outputs": [],
   "source": [
    "# Hidden test\n",
    "# No output will be produced\n",
    "# 4 marks"
   ]
  },
  {
   "cell_type": "markdown",
   "metadata": {
    "deletable": false,
    "editable": false,
    "nbgrader": {
     "cell_type": "markdown",
     "checksum": "09c8cd9d39652bb1080e5d5952ee809c",
     "grade": false,
     "grade_id": "cell-f988c934f198f638",
     "locked": true,
     "schema_version": 3,
     "solution": false
    }
   },
   "source": [
    "## Question 2\n",
    "\n",
    "Write a function which takes in a matrix and computes the absolute difference between the sums of its diagonals (i.e. left-to-right and right-to-left)."
   ]
  },
  {
   "cell_type": "code",
   "execution_count": 10,
   "metadata": {
    "ExecuteTime": {
     "end_time": "2019-02-06T06:08:07.146599Z",
     "start_time": "2019-02-06T06:08:07.143190Z"
    },
    "deletable": false,
    "nbgrader": {
     "cell_type": "code",
     "checksum": "4df5a44d305fe9787969659c53fb56d7",
     "grade": false,
     "grade_id": "cell-9216b1ad99ff18e8",
     "locked": false,
     "schema_version": 3,
     "solution": true
    }
   },
   "outputs": [],
   "source": [
    "# Question 2\n",
    "\n",
    "def diagonalDifference(arr):\n",
    "    sum1 = np.trace(arr)  \n",
    "#    print (sum1)\n",
    "    newArr = np.flip(arr,axis=1)\n",
    "#    print (newArr)\n",
    "    sum2 = np.trace(newArr) \n",
    "    diff = abs(sum2-sum1)\n",
    "    return diff\n",
    "    raise NotImplementedError()\n",
    "    "
   ]
  },
  {
   "cell_type": "code",
   "execution_count": 11,
   "metadata": {
    "ExecuteTime": {
     "end_time": "2019-02-06T06:08:07.481172Z",
     "start_time": "2019-02-06T06:08:07.478101Z"
    },
    "deletable": false,
    "editable": false,
    "nbgrader": {
     "cell_type": "code",
     "checksum": "39f6cca0bdeb2be36ec59453fb0f9a55",
     "grade": true,
     "grade_id": "cell-673842ebeecc4f16",
     "locked": true,
     "points": 1,
     "schema_version": 3,
     "solution": false
    }
   },
   "outputs": [
    {
     "name": "stdout",
     "output_type": "stream",
     "text": [
      "Test case passed!!!\n"
     ]
    }
   ],
   "source": [
    "# Run this test cell to check your code\n",
    "# Do not delete this cell\n",
    "# 1 mark\n",
    "# Unit test\n",
    "test =  [[11, 2,   4],\n",
    "         [4,  5,   6],\n",
    "         [10, 8, -12]]\n",
    "\n",
    "assert(diagonalDifference(test) == 15)\n",
    "print('Test case passed!!!')"
   ]
  },
  {
   "cell_type": "code",
   "execution_count": 12,
   "metadata": {
    "ExecuteTime": {
     "end_time": "2019-02-06T06:08:08.059050Z",
     "start_time": "2019-02-06T06:08:08.051533Z"
    },
    "deletable": false,
    "editable": false,
    "nbgrader": {
     "cell_type": "code",
     "checksum": "e099e3b87d165cff84671d1672f01fce",
     "grade": true,
     "grade_id": "cell-ee3f9ffebbaed8ae",
     "locked": true,
     "points": 4,
     "schema_version": 3,
     "solution": false
    }
   },
   "outputs": [],
   "source": [
    "# Hidden test\n",
    "# No output will be produced\n",
    "# 4 marks"
   ]
  },
  {
   "cell_type": "markdown",
   "metadata": {
    "deletable": false,
    "editable": false,
    "nbgrader": {
     "cell_type": "markdown",
     "checksum": "6091cd03b94bbf495afb0319fa11bc36",
     "grade": false,
     "grade_id": "cell-82eea20fd36b0cc0",
     "locked": true,
     "schema_version": 3,
     "solution": false
    }
   },
   "source": [
    "## Question 3\n",
    "\n",
    "Write a function that takes as input an array of integers. The function should compute the fractions of its elements that are positive, negative and are zeros. These fractions should be returned rounded to 4 decimal places."
   ]
  },
  {
   "cell_type": "code",
   "execution_count": 13,
   "metadata": {
    "ExecuteTime": {
     "end_time": "2019-02-06T06:08:08.836442Z",
     "start_time": "2019-02-06T06:08:08.830451Z"
    },
    "deletable": false,
    "nbgrader": {
     "cell_type": "code",
     "checksum": "7f9e167dc1485552492fcb91163c3712",
     "grade": false,
     "grade_id": "cell-54809b688e68a9f0",
     "locked": false,
     "schema_version": 3,
     "solution": true
    }
   },
   "outputs": [],
   "source": [
    "# Question 3\n",
    "\n",
    "def plusMinus(arr):\n",
    "    length = len(arr)\n",
    "    count1 = 0\n",
    "    count2 = 0\n",
    "    count3 = 0\n",
    "    for num in (arr):\n",
    "        if num >0:\n",
    "            count1+=1\n",
    "        elif num<0:\n",
    "            count2 +=1\n",
    "        else:\n",
    "            count3+=1\n",
    "    \n",
    "    return [round(count1/length,4), round(count2/length,4), round(count3/length,4)]\n",
    "    raise NotImplementedError()"
   ]
  },
  {
   "cell_type": "code",
   "execution_count": 14,
   "metadata": {
    "ExecuteTime": {
     "end_time": "2019-02-06T06:08:09.193475Z",
     "start_time": "2019-02-06T06:08:09.186010Z"
    },
    "deletable": false,
    "editable": false,
    "nbgrader": {
     "cell_type": "code",
     "checksum": "79c48d41ad2d92ccb9f18332eccfc902",
     "grade": true,
     "grade_id": "cell-ffc6e1a3d4e7eb1f",
     "locked": true,
     "points": 1,
     "schema_version": 3,
     "solution": false
    }
   },
   "outputs": [
    {
     "name": "stdout",
     "output_type": "stream",
     "text": [
      "Test case passed!!!\n"
     ]
    }
   ],
   "source": [
    "# Run this test cell to check your code\n",
    "# Do not delete this cell\n",
    "# 1 mark\n",
    "# Unit test\n",
    "arr = [-4, 3, -9, 0, 4, 1]\n",
    "nt.assert_array_almost_equal(plusMinus(arr),(0.5, 0.3333, 0.1667))\n",
    "print('Test case passed!!!')"
   ]
  },
  {
   "cell_type": "code",
   "execution_count": 15,
   "metadata": {
    "ExecuteTime": {
     "end_time": "2019-02-06T06:08:09.534520Z",
     "start_time": "2019-02-06T06:08:09.528460Z"
    },
    "deletable": false,
    "editable": false,
    "nbgrader": {
     "cell_type": "code",
     "checksum": "8ab92dfea8474075078b47017207463c",
     "grade": true,
     "grade_id": "cell-e1993ec3793d8e84",
     "locked": true,
     "points": 4,
     "schema_version": 3,
     "solution": false
    }
   },
   "outputs": [],
   "source": [
    "# Hidden test\n",
    "# No output will be produced\n",
    "# 4 marks"
   ]
  },
  {
   "cell_type": "markdown",
   "metadata": {
    "deletable": false,
    "editable": false,
    "nbgrader": {
     "cell_type": "markdown",
     "checksum": "b3262fe70e0fca07b385502851ff1605",
     "grade": false,
     "grade_id": "cell-22e27c3a87a32c15",
     "locked": true,
     "schema_version": 3,
     "solution": false
    }
   },
   "source": [
    "## Main Exercises"
   ]
  },
  {
   "cell_type": "markdown",
   "metadata": {
    "deletable": false,
    "editable": false,
    "nbgrader": {
     "cell_type": "markdown",
     "checksum": "4b3db17d7aa5008c04b571f32e034043",
     "grade": false,
     "grade_id": "cell-d0987d509b142c74",
     "locked": true,
     "schema_version": 3,
     "solution": false
    }
   },
   "source": [
    "### Question 1\n",
    "\n",
    "Write a function that takes as input a matrix and determines whether or not the matrix is symmetric. The function should return the strings `not symmetric` or `symmetric`. You may not use any obvious builtin function.\n"
   ]
  },
  {
   "cell_type": "code",
   "execution_count": 16,
   "metadata": {
    "ExecuteTime": {
     "end_time": "2019-02-06T06:08:10.997460Z",
     "start_time": "2019-02-06T06:08:10.993946Z"
    },
    "deletable": false,
    "nbgrader": {
     "cell_type": "code",
     "checksum": "1b61951cb6dd51e226344ed24c7ccd96",
     "grade": false,
     "grade_id": "cell-bb79f3b8b5237325",
     "locked": false,
     "schema_version": 3,
     "solution": true
    }
   },
   "outputs": [],
   "source": [
    "# Question 1\n",
    "def symCheck(A):\n",
    "    \n",
    "#    for i in range(A): \n",
    "#    for j in range(A): \n",
    "#        tr[i][j] = A[j][i]\n",
    "#     if (not square)\n",
    "#         return \"not symmetric\"\n",
    "    A_transpose = A.transpose()\n",
    "    return \"symmetric\" if np.all(A == A_transpose) else \"not symmetric\"\n",
    "    raise NotImplementedError()\n",
    "    "
   ]
  },
  {
   "cell_type": "code",
   "execution_count": 17,
   "metadata": {
    "ExecuteTime": {
     "end_time": "2019-02-06T06:08:11.127311Z",
     "start_time": "2019-02-06T06:08:11.123175Z"
    },
    "deletable": false,
    "editable": false,
    "nbgrader": {
     "cell_type": "code",
     "checksum": "9bc647ea9b3a465fa70a07c37be826fa",
     "grade": true,
     "grade_id": "cell-6ceae1a45ca31ec3",
     "locked": true,
     "points": 1,
     "schema_version": 3,
     "solution": false
    }
   },
   "outputs": [
    {
     "name": "stdout",
     "output_type": "stream",
     "text": [
      "Test case passed!!!\n"
     ]
    },
    {
     "name": "stderr",
     "output_type": "stream",
     "text": [
      "/Users/charlottesavage/opt/anaconda3/lib/python3.7/site-packages/ipykernel_launcher.py:10: DeprecationWarning: elementwise comparison failed; this will raise an error in the future.\n",
      "  # Remove the CWD from sys.path while we load stuff.\n"
     ]
    }
   ],
   "source": [
    "# Run this test cell to check your code\n",
    "# Do not delete this cell\n",
    "# 1 mark\n",
    "# Unit test\n",
    "A = np.array([[1, 2, 3], [2, 1, 3]])\n",
    "assert(symCheck(A) == 'not symmetric')\n",
    "print('Test case passed!!!')"
   ]
  },
  {
   "cell_type": "code",
   "execution_count": 18,
   "metadata": {
    "ExecuteTime": {
     "end_time": "2019-02-06T06:08:11.470016Z",
     "start_time": "2019-02-06T06:08:11.465580Z"
    },
    "deletable": false,
    "editable": false,
    "nbgrader": {
     "cell_type": "code",
     "checksum": "1d1d9ee1a84ea8922748ad7220a3d18a",
     "grade": true,
     "grade_id": "cell-930f852483475e58",
     "locked": true,
     "points": 1,
     "schema_version": 3,
     "solution": false
    }
   },
   "outputs": [
    {
     "name": "stdout",
     "output_type": "stream",
     "text": [
      "Test case passed!!!\n"
     ]
    }
   ],
   "source": [
    "# Run this test cell to check your code\n",
    "# Do not delete this cell\n",
    "# 1 mark\n",
    "# Unit test\n",
    "A = np.array([[1, 2, 3], [2, 1, 3],  [2, 1, 3]])\n",
    "assert(symCheck(A) == 'not symmetric')\n",
    "print('Test case passed!!!')"
   ]
  },
  {
   "cell_type": "code",
   "execution_count": 19,
   "metadata": {
    "ExecuteTime": {
     "end_time": "2019-02-06T06:08:11.698417Z",
     "start_time": "2019-02-06T06:08:11.693994Z"
    },
    "deletable": false,
    "editable": false,
    "nbgrader": {
     "cell_type": "code",
     "checksum": "51ccb44f90d1e3beba2975d4e9b20c98",
     "grade": true,
     "grade_id": "cell-90a862f789352887",
     "locked": true,
     "points": 1,
     "schema_version": 3,
     "solution": false
    }
   },
   "outputs": [
    {
     "name": "stdout",
     "output_type": "stream",
     "text": [
      "Test case passed!!!\n"
     ]
    }
   ],
   "source": [
    "# Run this test cell to check your code\n",
    "# Do not delete this cell\n",
    "# 1 mark\n",
    "# Unit test\n",
    "A = np.array([[1, 2, 3], [2, 1, 3],  [3, 3, 3]])\n",
    "assert(symCheck(A) == 'symmetric')\n",
    "print('Test case passed!!!')"
   ]
  },
  {
   "cell_type": "code",
   "execution_count": 20,
   "metadata": {
    "ExecuteTime": {
     "end_time": "2019-02-06T06:08:11.804028Z",
     "start_time": "2019-02-06T06:08:11.800488Z"
    },
    "deletable": false,
    "editable": false,
    "nbgrader": {
     "cell_type": "code",
     "checksum": "7e53f76433ebc3bcd69285f6459d1e0b",
     "grade": true,
     "grade_id": "cell-f9e2f8e214568ddc",
     "locked": true,
     "points": 3,
     "schema_version": 3,
     "solution": false
    }
   },
   "outputs": [],
   "source": [
    "# Hidden test\n",
    "# No output will be produced\n",
    "# 3 marks"
   ]
  },
  {
   "cell_type": "code",
   "execution_count": 21,
   "metadata": {
    "ExecuteTime": {
     "end_time": "2019-02-06T06:08:11.991745Z",
     "start_time": "2019-02-06T06:08:11.987094Z"
    },
    "deletable": false,
    "editable": false,
    "nbgrader": {
     "cell_type": "code",
     "checksum": "54fdd43174df15ac20760fafd3b92981",
     "grade": true,
     "grade_id": "cell-77a576b296165b9c",
     "locked": true,
     "points": 4,
     "schema_version": 3,
     "solution": false
    }
   },
   "outputs": [],
   "source": [
    "# Hidden test\n",
    "# No output will be produced\n",
    "# 4 marks"
   ]
  },
  {
   "cell_type": "markdown",
   "metadata": {
    "deletable": false,
    "editable": false,
    "nbgrader": {
     "cell_type": "markdown",
     "checksum": "0333b6c2d5c0566b052d6e4458a7d58d",
     "grade": false,
     "grade_id": "cell-8d5811a4c86e51a2",
     "locked": true,
     "schema_version": 3,
     "solution": false
    }
   },
   "source": [
    "### Question 2\n",
    "Write a function that takes in a matrix and determines whether or not the matrix is diagonally dominant. If the matrix is not strictly diagonally dominant, then the function should return `not diagonally dominant`, else the function must return `diagonally dominant`."
   ]
  },
  {
   "cell_type": "code",
   "execution_count": 22,
   "metadata": {
    "ExecuteTime": {
     "end_time": "2019-02-06T06:08:12.527930Z",
     "start_time": "2019-02-06T06:08:12.522555Z"
    },
    "deletable": false,
    "nbgrader": {
     "cell_type": "code",
     "checksum": "9f061166703454887972562d9ad5ccf9",
     "grade": false,
     "grade_id": "cell-821c25ec75fcec98",
     "locked": false,
     "schema_version": 3,
     "solution": true
    }
   },
   "outputs": [],
   "source": [
    "# Question 2\n",
    "def diagonallyDominant(A):\n",
    "    diag = abs(np.diagonal(A))\n",
    "    if A.shape[0]!=A.shape[1]:\n",
    "        return ('not diagonally dominant')\n",
    "    else:\n",
    "        for i in range (0,len(diag)):\n",
    "            if np.all(abs(sum(A[i])-diag[i]) <= diag[i]):\n",
    "                return 'diagonally dominant'\n",
    "            else:\n",
    "                return \"not diagonally dominant\"\n",
    "\n",
    "    raise NotImplementedError()  "
   ]
  },
  {
   "cell_type": "code",
   "execution_count": 23,
   "metadata": {
    "ExecuteTime": {
     "end_time": "2019-02-06T06:08:12.561865Z",
     "start_time": "2019-02-06T06:08:12.557055Z"
    },
    "deletable": false,
    "editable": false,
    "nbgrader": {
     "cell_type": "code",
     "checksum": "7b6d971ba3f241fad5c056536a9e581a",
     "grade": true,
     "grade_id": "cell-f964ef3cb505deaa",
     "locked": true,
     "points": 1,
     "schema_version": 3,
     "solution": false
    }
   },
   "outputs": [
    {
     "name": "stdout",
     "output_type": "stream",
     "text": [
      "Test case passed!!!\n"
     ]
    }
   ],
   "source": [
    "# Run this test cell to check your code\n",
    "# Do not delete this cell\n",
    "# 1 mark\n",
    "# Unit test\n",
    "A = np.array([[1, 2, 3], [2, 1, 3]])\n",
    "diagonallyDominant(A)\n",
    "assert(diagonallyDominant(A) == 'not diagonally dominant')\n",
    "print('Test case passed!!!')"
   ]
  },
  {
   "cell_type": "code",
   "execution_count": 24,
   "metadata": {
    "ExecuteTime": {
     "end_time": "2019-02-06T06:08:12.723484Z",
     "start_time": "2019-02-06T06:08:12.718507Z"
    },
    "deletable": false,
    "editable": false,
    "nbgrader": {
     "cell_type": "code",
     "checksum": "8245d4e91aa5eaf0fd94586e7f9119ec",
     "grade": true,
     "grade_id": "cell-a14be8e4293e1c64",
     "locked": true,
     "points": 1,
     "schema_version": 3,
     "solution": false
    }
   },
   "outputs": [
    {
     "name": "stdout",
     "output_type": "stream",
     "text": [
      "Test case passed!!!\n"
     ]
    }
   ],
   "source": [
    "# Run this test cell to check your code\n",
    "# Do not delete this cell\n",
    "# 1 mark\n",
    "# Unit test\n",
    "A = np.array([[3, -2, 1], [1, -3, 2], [-1, 2, 4]])\n",
    "assert(diagonallyDominant(A) == 'diagonally dominant')\n",
    "print('Test case passed!!!')"
   ]
  },
  {
   "cell_type": "code",
   "execution_count": 25,
   "metadata": {
    "ExecuteTime": {
     "end_time": "2019-02-06T06:08:13.003388Z",
     "start_time": "2019-02-06T06:08:12.998133Z"
    },
    "deletable": false,
    "editable": false,
    "nbgrader": {
     "cell_type": "code",
     "checksum": "90d9325f91a63e3d081083244c22b4e2",
     "grade": true,
     "grade_id": "cell-c5f8c7cd87dbe271",
     "locked": true,
     "points": 4,
     "schema_version": 3,
     "solution": false
    }
   },
   "outputs": [],
   "source": [
    "# Hidden test\n",
    "# No output will be produced\n",
    "# 4 marks"
   ]
  },
  {
   "cell_type": "code",
   "execution_count": 26,
   "metadata": {
    "ExecuteTime": {
     "end_time": "2019-02-06T06:08:13.341844Z",
     "start_time": "2019-02-06T06:08:13.336113Z"
    },
    "deletable": false,
    "editable": false,
    "nbgrader": {
     "cell_type": "code",
     "checksum": "9b352f1f8405630bfd0eda98234b35e2",
     "grade": true,
     "grade_id": "cell-34f4207fc3262f08",
     "locked": true,
     "points": 4,
     "schema_version": 3,
     "solution": false
    }
   },
   "outputs": [],
   "source": [
    "# Hidden test\n",
    "# No output will be produced\n",
    "# 4 marks"
   ]
  },
  {
   "cell_type": "markdown",
   "metadata": {
    "ExecuteTime": {
     "end_time": "2019-02-05T14:04:32.989841Z",
     "start_time": "2019-02-05T14:04:32.985236Z"
    },
    "deletable": false,
    "editable": false,
    "nbgrader": {
     "cell_type": "markdown",
     "checksum": "d4e1874e3f3c170deebdedc5839e4619",
     "grade": false,
     "grade_id": "cell-d27a1be93a2c7e09",
     "locked": true,
     "schema_version": 3,
     "solution": false
    }
   },
   "source": [
    "### Question 3\n",
    "\n",
    "Write a function that implements the Power method for computing the largest Eigenvalue (recall from Numerics II). The function should take in a matrix A, an initial guess `x`, the number of iterations to perform `k` and return the eigenvalue and eigenvector pair (using the $\\ell_2$ norm)."
   ]
  },
  {
   "cell_type": "code",
   "execution_count": 27,
   "metadata": {
    "ExecuteTime": {
     "end_time": "2019-02-06T06:12:36.272298Z",
     "start_time": "2019-02-06T06:12:36.267179Z"
    },
    "deletable": false,
    "nbgrader": {
     "cell_type": "code",
     "checksum": "78e3b8b853a83bbf54226365ef399d99",
     "grade": false,
     "grade_id": "cell-73cfeb4a00fb49f4",
     "locked": false,
     "schema_version": 3,
     "solution": true
    }
   },
   "outputs": [],
   "source": [
    "def power_iteration(A, x, k):\n",
    "    for i in range (k):\n",
    "        u = x/(LA.norm(x))\n",
    "#        print (u)\n",
    "        x = np.matmul(A,u)\n",
    "#        print (x)\n",
    "    lamb = LA.norm(x)\n",
    "    u = x/(LA.norm(x))\n",
    "    return [lamb,u]\n",
    "    \n",
    "    raise NotImplementedError()"
   ]
  },
  {
   "cell_type": "code",
   "execution_count": 28,
   "metadata": {
    "ExecuteTime": {
     "end_time": "2019-02-06T06:12:49.559930Z",
     "start_time": "2019-02-06T06:12:49.554008Z"
    },
    "deletable": false,
    "editable": false,
    "nbgrader": {
     "cell_type": "code",
     "checksum": "0d46386a30f23c33b93fe5ed045b0aaa",
     "grade": true,
     "grade_id": "cell-d12def2ae18d05fe",
     "locked": true,
     "points": 1,
     "schema_version": 3,
     "solution": false
    }
   },
   "outputs": [
    {
     "name": "stdout",
     "output_type": "stream",
     "text": [
      "Test case passed!!!\n"
     ]
    }
   ],
   "source": [
    "# Run this test cell to check your code\n",
    "# Do not delete this cell\n",
    "# 1 mark\n",
    "# Unit test\n",
    "A = np.array([[1, 3], [2, 2]])\n",
    "x = np.array([-5, 5])\n",
    "k = 10\n",
    "nt.assert_approx_equal(power_iteration(A, x, k)[0], 3.999980924767464)\n",
    "print('Test case passed!!!')"
   ]
  },
  {
   "cell_type": "code",
   "execution_count": 29,
   "metadata": {
    "ExecuteTime": {
     "end_time": "2019-02-06T06:12:50.110809Z",
     "start_time": "2019-02-06T06:12:50.104816Z"
    },
    "deletable": false,
    "editable": false,
    "nbgrader": {
     "cell_type": "code",
     "checksum": "dacdcfce7cd087caf929859decb68f79",
     "grade": true,
     "grade_id": "cell-94a6f86cc264baac",
     "locked": true,
     "points": 1,
     "schema_version": 3,
     "solution": false
    }
   },
   "outputs": [
    {
     "name": "stdout",
     "output_type": "stream",
     "text": [
      "Test case passed!!!\n"
     ]
    }
   ],
   "source": [
    "# Run this test cell to check your code\n",
    "# Do not delete this cell\n",
    "# 1 mark\n",
    "# Unit test\n",
    "A = np.array([[1, 3], [2, 2]])\n",
    "x = np.array([-5, 5])\n",
    "k = 10\n",
    "nt.assert_array_almost_equal(power_iteration(A, x, k)[1], np.array([0.70710341, 0.70711015]))\n",
    "print('Test case passed!!!')"
   ]
  },
  {
   "cell_type": "code",
   "execution_count": 30,
   "metadata": {
    "ExecuteTime": {
     "end_time": "2019-02-06T06:13:02.003382Z",
     "start_time": "2019-02-06T06:13:01.997106Z"
    },
    "deletable": false,
    "editable": false,
    "nbgrader": {
     "cell_type": "code",
     "checksum": "876f0d604b1a47b6ba157fd1b47c132b",
     "grade": true,
     "grade_id": "cell-0cb5374bbbf85aa8",
     "locked": true,
     "points": 4,
     "schema_version": 3,
     "solution": false
    }
   },
   "outputs": [],
   "source": [
    "# Hidden test\n",
    "# No output will be produced\n",
    "# 4 marks"
   ]
  },
  {
   "cell_type": "code",
   "execution_count": 31,
   "metadata": {
    "ExecuteTime": {
     "end_time": "2019-02-06T06:13:06.754464Z",
     "start_time": "2019-02-06T06:13:06.747559Z"
    },
    "deletable": false,
    "editable": false,
    "nbgrader": {
     "cell_type": "code",
     "checksum": "0c827a513070f805a9a805379fbac4ba",
     "grade": true,
     "grade_id": "cell-bb9f3b23195b1a8d",
     "locked": true,
     "points": 4,
     "schema_version": 3,
     "solution": false
    }
   },
   "outputs": [],
   "source": [
    "# Hidden test\n",
    "# No output will be produced\n",
    "# 4 marks"
   ]
  },
  {
   "cell_type": "markdown",
   "metadata": {
    "deletable": false,
    "editable": false,
    "nbgrader": {
     "cell_type": "markdown",
     "checksum": "8e61cbfc7c6de00f9f0f7c7f5aa4be0e",
     "grade": false,
     "grade_id": "cell-df57995355304f87",
     "locked": true,
     "schema_version": 3,
     "solution": false
    }
   },
   "source": [
    "### Question 4\n",
    "\n",
    "Write a function that implements the Jacobi iterative method which iterates while the magnitude of the largerst off diagonal is greater than some tolerance. The function should take in a matrix as well as a tolerance. The function should return the resultant matrix and the number of iterations required."
   ]
  },
  {
   "cell_type": "code",
   "execution_count": 3,
   "metadata": {
    "ExecuteTime": {
     "end_time": "2019-02-06T06:08:14.722884Z",
     "start_time": "2019-02-06T06:08:14.708429Z"
    },
    "deletable": false,
    "nbgrader": {
     "cell_type": "code",
     "checksum": "ec888b969f6019adce350640cf62d7be",
     "grade": false,
     "grade_id": "cell-354a498585cf3634",
     "locked": false,
     "schema_version": 3,
     "solution": true
    }
   },
   "outputs": [],
   "source": [
    "def find_max_element(A):\n",
    "    D = np.copy(A)\n",
    "    np.fill_diagonal(D,0)\n",
    " #   print (D)\n",
    " #   abs_max_element = np.max(abs(D))\n",
    "    max_element_tuple = np.unravel_index(np.argmax(abs(D)), D.shape)\n",
    " #   print (max_element_tuple)\n",
    "    ind0 = max_element_tuple[0]\n",
    "    ind1 = max_element_tuple[1]\n",
    "    max_element = D[ind0][ind1]\n",
    "#    print (\"Max element is \" + str(max_element))\n",
    "    return max_element, max_element_tuple"
   ]
  },
  {
   "cell_type": "code",
   "execution_count": 4,
   "metadata": {},
   "outputs": [],
   "source": [
    "def find_theta(A,max_element,max_element_tuple):\n",
    "    ind0 = max_element_tuple[0]\n",
    "    ind1 = max_element_tuple[1]\n",
    "    if A[ind0][ind0]==A[ind1][ind1]:\n",
    "        if A[ind0][ind1]>0:\n",
    "            theta = math.pi/4\n",
    "        else:\n",
    "            theta = -math.pi/4\n",
    "    else: \n",
    "        theta = 0.5*np.arctan((2*(A[ind0][ind1]))/(A[ind1][ind1]-(A[ind0][ind0])))\n",
    "    print (\"this is theta \"+str(theta))\n",
    "    return theta"
   ]
  },
  {
   "cell_type": "code",
   "execution_count": 5,
   "metadata": {},
   "outputs": [],
   "source": [
    "def find_transform(A,max_element_tuple, theta):\n",
    "    S = np.identity(len(A))\n",
    "    ind0 = max_element_tuple[0]\n",
    "    ind1 = max_element_tuple[1]\n",
    "    \n",
    "    S[ind0][ind0]= np.cos(theta)\n",
    "    S[ind1][ind1]= np.cos(theta)\n",
    "    S[ind0][ind1]= np.sin(theta)\n",
    "    S[ind1][ind0]=-np.sin(theta)\n",
    "#    print (S)\n",
    "    return S"
   ]
  },
  {
   "cell_type": "code",
   "execution_count": 6,
   "metadata": {},
   "outputs": [],
   "source": [
    "def jacobi(A, tol):\n",
    "    max_element, max_element_tuple = find_max_element(A)\n",
    "    count = 0\n",
    "    while abs(max_element) >= tol:\n",
    "        count +=1\n",
    "        theta = find_theta(A, max_element, max_element_tuple)\n",
    "        S = find_transform(A, max_element_tuple, theta)\n",
    "        A = np.matmul((np.matmul(np.transpose(S),A)),S)\n",
    "        max_element, max_element_tuple = find_max_element(A)\n",
    "\n",
    "    return [A,count]\n",
    "    raise NotImplementedError()"
   ]
  },
  {
   "cell_type": "code",
   "execution_count": 7,
   "metadata": {
    "ExecuteTime": {
     "end_time": "2019-02-06T06:14:44.986455Z",
     "start_time": "2019-02-06T06:14:44.976186Z"
    },
    "deletable": false,
    "editable": false,
    "nbgrader": {
     "cell_type": "code",
     "checksum": "5b7482825e11aefc45b7060da86da353",
     "grade": true,
     "grade_id": "cell-960bb781516adac2",
     "locked": true,
     "points": 1,
     "schema_version": 3,
     "solution": false
    }
   },
   "outputs": [
    {
     "name": "stdout",
     "output_type": "stream",
     "text": [
      "Test case passed!!!\n"
     ]
    }
   ],
   "source": [
    "# Run this test cell to check your code\n",
    "# Do not delete this cell\n",
    "# 1 mark\n",
    "# Unit test\n",
    "A   = np.array([[1, 3, 4], [3, 2, 8], [4, 8, 3]])\n",
    "tol = 1e-7\n",
    "t1  = np.array([[-1.0640829,  -0.        ,  0.        ],\n",
    "                [-0.       ,  -5.57611682, -0.        ],\n",
    "                [ 0.       ,   0.        , 12.64019972]])\n",
    "t2 = 7\n",
    "o1, o2 = jacobi(A, tol)\n",
    "nt.assert_array_almost_equal(t1, o1)\n",
    "print('Test case passed!!!')"
   ]
  },
  {
   "cell_type": "code",
   "execution_count": 8,
   "metadata": {
    "ExecuteTime": {
     "end_time": "2019-02-06T06:14:45.406786Z",
     "start_time": "2019-02-06T06:14:45.398609Z"
    },
    "deletable": false,
    "editable": false,
    "nbgrader": {
     "cell_type": "code",
     "checksum": "0b5144b296ea64f8bccd0fa99277e793",
     "grade": true,
     "grade_id": "cell-0bb7f9c590308d45",
     "locked": true,
     "points": 1,
     "schema_version": 3,
     "solution": false
    }
   },
   "outputs": [
    {
     "name": "stdout",
     "output_type": "stream",
     "text": [
      "Test case passed!!!\n"
     ]
    }
   ],
   "source": [
    "# Run this test cell to check your code\n",
    "# Do not delete this cell\n",
    "# 1 mark\n",
    "# Unit test\n",
    "A   = np.array([[1, 3, 4], [3, 2, 8], [4, 8, 3]])\n",
    "tol = 1e-7\n",
    "t1  = np.array([[-1.0640829,  -0.        ,  0.        ],\n",
    "                [-0.       ,  -5.57611682, -0.        ],\n",
    "                [ 0.       ,   0.        , 12.64019972]])\n",
    "t2 = 7\n",
    "o1, o2 = jacobi(A, tol)\n",
    "assert(abs(o2 - t2) <= 1)\n",
    "print('Test case passed!!!')"
   ]
  },
  {
   "cell_type": "code",
   "execution_count": 51,
   "metadata": {
    "ExecuteTime": {
     "end_time": "2019-02-06T06:14:45.771659Z",
     "start_time": "2019-02-06T06:14:45.762513Z"
    },
    "deletable": false,
    "editable": false,
    "nbgrader": {
     "cell_type": "code",
     "checksum": "89c4f45a131c4d347a5df1b313cf5b53",
     "grade": true,
     "grade_id": "cell-1c7903e40fb17c04",
     "locked": true,
     "points": 4,
     "schema_version": 3,
     "solution": false
    }
   },
   "outputs": [],
   "source": [
    "# Hidden test\n",
    "# No output will be produced\n",
    "# 4 marks"
   ]
  },
  {
   "cell_type": "code",
   "execution_count": 52,
   "metadata": {
    "ExecuteTime": {
     "end_time": "2019-02-06T06:14:46.200089Z",
     "start_time": "2019-02-06T06:14:46.191494Z"
    },
    "deletable": false,
    "editable": false,
    "nbgrader": {
     "cell_type": "code",
     "checksum": "ce9bf806d25e845e603c826c8555cc7f",
     "grade": true,
     "grade_id": "cell-fce31b93e88cf1b9",
     "locked": true,
     "points": 4,
     "schema_version": 3,
     "solution": false
    }
   },
   "outputs": [],
   "source": [
    "# Hidden test\n",
    "# No output will be produced\n",
    "# 4 marks"
   ]
  },
  {
   "cell_type": "code",
   "execution_count": null,
   "metadata": {},
   "outputs": [],
   "source": []
  }
 ],
 "metadata": {
  "@webio": {
   "lastCommId": "bed814a953ba476f8d9f3506e15e3b0a",
   "lastKernelId": "2d3193ab-21b0-4bcb-83fc-4bfa0cb6df15"
  },
  "kernelspec": {
   "display_name": "Python 3",
   "language": "python",
   "name": "python3"
  },
  "language_info": {
   "codemirror_mode": {
    "name": "ipython",
    "version": 3
   },
   "file_extension": ".py",
   "mimetype": "text/x-python",
   "name": "python",
   "nbconvert_exporter": "python",
   "pygments_lexer": "ipython3",
   "version": "3.7.4"
  },
  "latex_envs": {
   "LaTeX_envs_menu_present": true,
   "autoclose": false,
   "autocomplete": true,
   "bibliofile": "biblio.bib",
   "cite_by": "apalike",
   "current_citInitial": 1,
   "eqLabelWithNumbers": true,
   "eqNumInitial": 1,
   "hotkeys": {
    "equation": "Ctrl-E",
    "itemize": "Ctrl-I"
   },
   "labels_anchors": false,
   "latex_user_defs": false,
   "report_style_numbering": false,
   "user_envs_cfg": false
  },
  "varInspector": {
   "cols": {
    "lenName": 16,
    "lenType": 16,
    "lenVar": 40
   },
   "kernels_config": {
    "python": {
     "delete_cmd_postfix": "",
     "delete_cmd_prefix": "del ",
     "library": "var_list.py",
     "varRefreshCmd": "print(var_dic_list())"
    },
    "r": {
     "delete_cmd_postfix": ") ",
     "delete_cmd_prefix": "rm(",
     "library": "var_list.r",
     "varRefreshCmd": "cat(var_dic_list()) "
    }
   },
   "types_to_exclude": [
    "module",
    "function",
    "builtin_function_or_method",
    "instance",
    "_Feature"
   ],
   "window_display": false
  }
 },
 "nbformat": 4,
 "nbformat_minor": 2
}
