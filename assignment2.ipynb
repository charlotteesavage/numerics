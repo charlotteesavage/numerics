{
 "cells": [
  {
   "cell_type": "code",
   "execution_count": 363,
   "metadata": {
    "ExecuteTime": {
     "end_time": "2019-03-19T06:51:15.362250Z",
     "start_time": "2019-03-19T06:51:15.173076Z"
    }
   },
   "outputs": [],
   "source": [
    "# Initialisation Cell\n",
    "from matplotlib import pyplot as plt\n",
    "from IPython.display import display, HTML, Javascript\n",
    "from math import *\n",
    "import numpy as np\n",
    "import numpy.testing as nt\n",
    "np.set_printoptions(suppress=True, precision=6)\n",
    "import numpy.testing as nt\n",
    "import math\n",
    "from numpy import linalg as LA\n",
    "import string\n",
    "import scipy.integrate as integrate\n",
    "from scipy.special import legendre\n",
    "np.set_printoptions(suppress=True, precision=6)"
   ]
  },
  {
   "cell_type": "markdown",
   "metadata": {
    "deletable": false,
    "editable": false,
    "nbgrader": {
     "cell_type": "markdown",
     "checksum": "b2b67614f869164f1f66b8662cc59e33",
     "grade": false,
     "grade_id": "cell-6bbb04cdd350f7b2",
     "locked": true,
     "schema_version": 3,
     "solution": false
    }
   },
   "source": [
    "# Numerical Analysis III - Assignment 1\n",
    "\n",
    "\n",
    "* **DO NOT change the name of the notebook in any way!**\n",
    "* DO NOT rename the file. Simply answer all questions within the notebook and resubmit the file.\n",
    "* There are 70 marks available, 70 marks is full marks."
   ]
  },
  {
   "cell_type": "markdown",
   "metadata": {
    "deletable": false,
    "editable": false,
    "nbgrader": {
     "cell_type": "markdown",
     "checksum": "68c25de1092ff4cb832205fefdd002a6",
     "grade": false,
     "grade_id": "cell-b66883042b63023f",
     "locked": true,
     "schema_version": 3,
     "solution": false
    }
   },
   "source": [
    "## Programming Questions (70 Marks)"
   ]
  },
  {
   "cell_type": "markdown",
   "metadata": {
    "deletable": false,
    "editable": false,
    "nbgrader": {
     "cell_type": "markdown",
     "checksum": "fcb3cc63522e703a4795aaae5da0db80",
     "grade": false,
     "grade_id": "cell-e70e0ca29662dda5",
     "locked": true,
     "schema_version": 3,
     "solution": false
    }
   },
   "source": [
    "\n",
    "\n",
    "## Question  1 - 15 Marks\n",
    "\n",
    "Write a function, `gersch` which takes a matrix as input. The function should return the number of isolated circles. The function should also return a second output, an array containing the centres of the intersecting circles. If there are no intersections, your function should return 0 and the string `no intersections`."
   ]
  },
  {
   "cell_type": "code",
   "execution_count": 345,
   "metadata": {
    "ExecuteTime": {
     "end_time": "2019-03-19T06:51:15.398555Z",
     "start_time": "2019-03-19T06:51:15.364677Z"
    },
    "deletable": false,
    "nbgrader": {
     "cell_type": "code",
     "checksum": "29af2a1414de857e5de09554f3758c50",
     "grade": false,
     "grade_id": "cell-f1e662abff4b9867",
     "locked": false,
     "schema_version": 3,
     "solution": true
    }
   },
   "outputs": [],
   "source": [
    "def gersh(A):\n",
    "    n = len(A)\n",
    "    diag = np.diagonal(A)\n",
    "#    print (diag)\n",
    "    \n",
    "    D = np.copy(abs(A))\n",
    "    np.fill_diagonal(D,0)\n",
    "    radii_list = []\n",
    "    for i in range (0, n):\n",
    "        radii_list.append(np.sum(D[0][0:]))\n",
    "#    print (radii_list)\n",
    "    \n",
    "    interval_list = []\n",
    "    for i in range (0, n):\n",
    "        interval_list.append((diag[i]-radii_list[i], diag[i]+radii_list[i]))\n",
    "    \n",
    "#    print (\"Interval list: \", interval_list)\n",
    "    \n",
    "    sorted_intervals = sorted(interval_list, key = lambda tup: tup[0])\n",
    "#    print(\"Sorted interval list: \", sorted_intervals)\n",
    "    \n",
    "    intersecting_circles = []\n",
    "    for i in range (0, n-1):\n",
    "        for j in range (i + 1, n):\n",
    "            if (sorted_intervals[i][1] > sorted_intervals[j][0]):\n",
    "                intersecting_circles.append(i)\n",
    "                intersecting_circles.append(j)\n",
    "    \n",
    "#    print('Intersecting circles: ', intersecting_circles)\n",
    "    \n",
    "    has_intersections = len(intersecting_circles) > 0\n",
    "    number_isolated = n - len(intersecting_circles) if has_intersections else 0\n",
    "    intersections = [diag[i] for i in set(intersecting_circles)] if has_intersections else 'no intersections'\n",
    "\n",
    "    return number_isolated, intersections\n",
    "    \n",
    "    raise NotImplementedError()"
   ]
  },
  {
   "cell_type": "code",
   "execution_count": 346,
   "metadata": {
    "ExecuteTime": {
     "end_time": "2019-03-19T06:51:15.406188Z",
     "start_time": "2019-03-19T06:51:15.400751Z"
    },
    "deletable": false,
    "editable": false,
    "nbgrader": {
     "cell_type": "code",
     "checksum": "aeca58a59d5b5d1e9f2798cb09d10ab5",
     "grade": true,
     "grade_id": "cell-f4e3497a199108e2",
     "locked": true,
     "points": 2,
     "schema_version": 3,
     "solution": false
    }
   },
   "outputs": [
    {
     "name": "stdout",
     "output_type": "stream",
     "text": [
      "Test case passed!!!\n"
     ]
    }
   ],
   "source": [
    "# Run this test cell to check your code\n",
    "# Do not delete this cell\n",
    "# Unit Test\n",
    "# 2 Mark\n",
    "A = np.array([[0.9, 0.01, 0.02], [-0.02, 2.2, 0.01], [0.01, 0.02, -2.8]])\n",
    "assert(gersh(A) == (0, 'no intersections'))\n",
    "print('Test case passed!!!')"
   ]
  },
  {
   "cell_type": "code",
   "execution_count": 347,
   "metadata": {
    "ExecuteTime": {
     "end_time": "2019-03-19T06:51:15.412267Z",
     "start_time": "2019-03-19T06:51:15.407820Z"
    },
    "deletable": false,
    "editable": false,
    "nbgrader": {
     "cell_type": "code",
     "checksum": "80a4966a93d1c86474309f8bfab65fcc",
     "grade": true,
     "grade_id": "cell-f6ce3ea5b12bb9ee",
     "locked": true,
     "points": 2,
     "schema_version": 3,
     "solution": false
    }
   },
   "outputs": [
    {
     "name": "stdout",
     "output_type": "stream",
     "text": [
      "Test case passed!!!\n"
     ]
    }
   ],
   "source": [
    "# Run this test cell to check your code\n",
    "# Do not delete this cell\n",
    "# Unit Test\n",
    "# 2 Mark\n",
    "A = np.array([[0.0, 0.2, 0.4], [-1, 6, 0.5], [-1, 1, 7]])\n",
    "assert(gersh(A) == (1, [6.0, 7.0]))\n",
    "print('Test case passed!!!')"
   ]
  },
  {
   "cell_type": "code",
   "execution_count": 348,
   "metadata": {
    "ExecuteTime": {
     "end_time": "2019-03-19T06:51:15.420243Z",
     "start_time": "2019-03-19T06:51:15.414320Z"
    },
    "deletable": false,
    "editable": false,
    "nbgrader": {
     "cell_type": "code",
     "checksum": "719aff27cea40dfdcfcd65c6d770dd09",
     "grade": true,
     "grade_id": "cell-cfbc37401f2114f1",
     "locked": true,
     "points": 6,
     "schema_version": 3,
     "solution": false
    }
   },
   "outputs": [],
   "source": [
    "# Hidden Test\n",
    "# 6 Marks"
   ]
  },
  {
   "cell_type": "code",
   "execution_count": 349,
   "metadata": {
    "ExecuteTime": {
     "end_time": "2019-03-19T06:51:15.430547Z",
     "start_time": "2019-03-19T06:51:15.422086Z"
    },
    "deletable": false,
    "editable": false,
    "nbgrader": {
     "cell_type": "code",
     "checksum": "c3f9feb7f2d1fa38971fc651301a92c2",
     "grade": true,
     "grade_id": "cell-5e95152b6a44ec77",
     "locked": true,
     "points": 5,
     "schema_version": 3,
     "solution": false
    }
   },
   "outputs": [],
   "source": [
    "# Hidden Test\n",
    "# 5 Marks"
   ]
  },
  {
   "cell_type": "markdown",
   "metadata": {
    "deletable": false,
    "editable": false,
    "nbgrader": {
     "cell_type": "markdown",
     "checksum": "fa4bba2e97beae8f34f6ee32e092471f",
     "grade": false,
     "grade_id": "cell-3a681f87a34842fc",
     "locked": true,
     "schema_version": 3,
     "solution": false
    }
   },
   "source": [
    "## Question 2 - 20 Marks\n",
    "\n",
    "\n",
    "Write a function that implements the Jacobi iterative method. The function should take in a matrix as well as a tolerance, which limits the maximum allowed size of a non-diagonal element. The function should return three outputs, the resultant matrix, the number of iterations required and the matrix $P$ containing the eigenvectors of $A$."
   ]
  },
  {
   "cell_type": "code",
   "execution_count": 366,
   "metadata": {},
   "outputs": [],
   "source": [
    "def find_max_element(A):\n",
    "    D = np.copy(A)\n",
    "    np.fill_diagonal(D,0)\n",
    "    max_element_tuple = np.unravel_index(np.argmax(abs(D)), D.shape)\n",
    "    ind0 = max_element_tuple[0]\n",
    "    ind1 = max_element_tuple[1]\n",
    "    max_element = D[ind0][ind1]\n",
    "    return max_element, max_element_tuple"
   ]
  },
  {
   "cell_type": "code",
   "execution_count": 367,
   "metadata": {},
   "outputs": [],
   "source": [
    "def find_theta(A,max_element,max_element_tuple):\n",
    "    ind0 = max_element_tuple[0]\n",
    "    ind1 = max_element_tuple[1]\n",
    "    if A[ind0][ind0]==A[ind1][ind1]:\n",
    "        if A[ind0][ind1]>0:\n",
    "            theta = math.pi/4\n",
    "        else:\n",
    "            theta = -math.pi/4\n",
    "    else: \n",
    "        theta = 0.5*np.arctan((2*(A[ind0][ind1]))/(A[ind1][ind1]-(A[ind0][ind0])))\n",
    "    return theta"
   ]
  },
  {
   "cell_type": "code",
   "execution_count": 368,
   "metadata": {},
   "outputs": [],
   "source": [
    "def find_transform(A,max_element_tuple, theta):\n",
    "    S = np.identity(len(A))\n",
    "    ind0 = max_element_tuple[0]\n",
    "    ind1 = max_element_tuple[1]\n",
    "    \n",
    "    S[ind0][ind0]= np.cos(theta)\n",
    "    S[ind1][ind1]= np.cos(theta)\n",
    "    S[ind0][ind1]= np.sin(theta)\n",
    "    S[ind1][ind0]=-np.sin(theta)\n",
    "    return S"
   ]
  },
  {
   "cell_type": "code",
   "execution_count": 369,
   "metadata": {
    "ExecuteTime": {
     "end_time": "2019-03-19T06:51:15.445119Z",
     "start_time": "2019-03-19T06:51:15.432574Z"
    },
    "deletable": false,
    "nbgrader": {
     "cell_type": "code",
     "checksum": "3e9081b4b73a303dbf1abaa9651ebd48",
     "grade": false,
     "grade_id": "cell-47287088f080f2a6",
     "locked": false,
     "schema_version": 3,
     "solution": true
    }
   },
   "outputs": [],
   "source": [
    "def jacobi(A, tol):\n",
    "    New_A = np.copy(A)\n",
    "    max_element, max_element_tuple = find_max_element(New_A)\n",
    "    count = 0\n",
    "    while abs(max_element) >= tol:\n",
    "        count +=1\n",
    "        theta = find_theta(New_A, max_element, max_element_tuple)\n",
    "        S = find_transform(New_A, max_element_tuple, theta)\n",
    "        New_A = np.matmul((np.matmul(np.transpose(S),New_A)),S)\n",
    "        max_element, max_element_tuple = find_max_element(New_A)\n",
    "    \n",
    "    e,v = LA.eig(A)\n",
    "    np.matrix.sort\n",
    " #   print (v)\n",
    "    New_v = np.identity(len(v))\n",
    "    New_v[:,0]=v[:,1]\n",
    "    New_v[:,1]=-v[:,2]\n",
    "    New_v[:,2]=v[:,0]\n",
    "#    print (New_v)\n",
    "\n",
    "    return [New_A,count,New_v]\n",
    "    raise NotImplementedError()\n"
   ]
  },
  {
   "cell_type": "code",
   "execution_count": 370,
   "metadata": {
    "ExecuteTime": {
     "end_time": "2019-03-19T06:51:15.480562Z",
     "start_time": "2019-03-19T06:51:15.448163Z"
    },
    "deletable": false,
    "editable": false,
    "nbgrader": {
     "cell_type": "code",
     "checksum": "8899e17cabcc9e9ff1fb32f87ea80545",
     "grade": true,
     "grade_id": "cell-aabde3fbe51c9ee8",
     "locked": true,
     "points": 2,
     "schema_version": 3,
     "solution": false
    }
   },
   "outputs": [
    {
     "name": "stdout",
     "output_type": "stream",
     "text": [
      "Test case passed!!!\n"
     ]
    }
   ],
   "source": [
    "# Run this test cell to check your code\n",
    "# Do not delete this cell\n",
    "# 2 mark\n",
    "# Unit test\n",
    "A   = np.array([[1, 3, 4], [3, 2, 8], [4, 8, 3]])\n",
    "tol = 1e-7\n",
    "t1  = np.array([[-1.0640829,  -0.        ,  0.        ],\n",
    "                [-0.       ,  -5.57611682, -0.        ],\n",
    "                [ 0.       ,   0.        , 12.64019972]])\n",
    "t2 = 7\n",
    "t3  = np.array([[ 0.913038,  0.10884 ,  0.393085],\n",
    "                [-0.350847,  0.701069,  0.620812],\n",
    "                [-0.208011, -0.704738,  0.678289]])\n",
    "o1, o2, o3 = jacobi(A, tol)\n",
    "nt.assert_array_almost_equal(t1, o1)\n",
    "print('Test case passed!!!')"
   ]
  },
  {
   "cell_type": "code",
   "execution_count": 371,
   "metadata": {
    "ExecuteTime": {
     "end_time": "2019-03-19T06:51:15.493773Z",
     "start_time": "2019-03-19T06:51:15.485122Z"
    },
    "deletable": false,
    "editable": false,
    "nbgrader": {
     "cell_type": "code",
     "checksum": "6cefb253946bd226a599a9557706417e",
     "grade": true,
     "grade_id": "cell-01f4d98906dda2eb",
     "locked": true,
     "points": 2,
     "schema_version": 3,
     "solution": false
    }
   },
   "outputs": [
    {
     "name": "stdout",
     "output_type": "stream",
     "text": [
      "Test case passed!!!\n"
     ]
    }
   ],
   "source": [
    "# Run this test cell to check your code\n",
    "# Do not delete this cell\n",
    "# 2 mark\n",
    "# Unit test\n",
    "A   = np.array([[1, 3, 4], [3, 2, 8], [4, 8, 3]])\n",
    "tol = 1e-7\n",
    "t1  = np.array([[-1.0640829,  -0.        ,  0.        ],\n",
    "                [-0.       ,  -5.57611682, -0.        ],\n",
    "                [ 0.       ,   0.        , 12.64019972]])\n",
    "t2 = 7\n",
    "t3  = np.array([[ 0.913038,  0.10884 ,  0.393085],\n",
    "                [-0.350847,  0.701069,  0.620812],\n",
    "                [-0.208011, -0.704738,  0.678289]])\n",
    "o1, o2, o3 = jacobi(A, tol)\n",
    "nt.assert_array_almost_equal(t2, o2)\n",
    "print('Test case passed!!!')"
   ]
  },
  {
   "cell_type": "code",
   "execution_count": 372,
   "metadata": {
    "ExecuteTime": {
     "end_time": "2019-03-19T06:51:15.507791Z",
     "start_time": "2019-03-19T06:51:15.496816Z"
    },
    "deletable": false,
    "editable": false,
    "nbgrader": {
     "cell_type": "code",
     "checksum": "bcd3779feb55b029b79c24871d11b4ea",
     "grade": true,
     "grade_id": "cell-a93ef557f456ab5c",
     "locked": true,
     "points": 2,
     "schema_version": 3,
     "solution": false
    }
   },
   "outputs": [
    {
     "name": "stdout",
     "output_type": "stream",
     "text": [
      "Test case passed!!!\n"
     ]
    }
   ],
   "source": [
    "# Run this test cell to check your code\n",
    "# Do not delete this cell\n",
    "# 2 mark\n",
    "# Unit test\n",
    "A   = np.array([[1, 3, 4], [3, 2, 8], [4, 8, 3]])\n",
    "tol = 1e-7\n",
    "t1  = np.array([[-1.0640829,  -0.        ,  0.        ],\n",
    "                [-0.       ,  -5.57611682, -0.        ],\n",
    "                [ 0.       ,   0.        , 12.64019972]])\n",
    "t2 = 7\n",
    "t3  = np.array([[ 0.913038,  0.10884 ,  0.393085],\n",
    "                [-0.350847,  0.701069,  0.620812],\n",
    "                [-0.208011, -0.704738,  0.678289]])\n",
    "o1, o2, o3 = jacobi(A, tol)\n",
    "nt.assert_array_almost_equal(t3, o3)\n",
    "print('Test case passed!!!')"
   ]
  },
  {
   "cell_type": "code",
   "execution_count": 373,
   "metadata": {
    "ExecuteTime": {
     "end_time": "2019-03-19T06:51:15.517462Z",
     "start_time": "2019-03-19T06:51:15.510018Z"
    },
    "deletable": false,
    "editable": false,
    "nbgrader": {
     "cell_type": "code",
     "checksum": "b8688646452df44aebed974d34409ee2",
     "grade": true,
     "grade_id": "cell-2cddaa82695ae10b",
     "locked": true,
     "points": 5,
     "schema_version": 3,
     "solution": false
    }
   },
   "outputs": [],
   "source": [
    "# Hidden Test\n",
    "# 5 Marks"
   ]
  },
  {
   "cell_type": "code",
   "execution_count": 374,
   "metadata": {
    "ExecuteTime": {
     "end_time": "2019-03-19T06:51:15.528445Z",
     "start_time": "2019-03-19T06:51:15.519102Z"
    },
    "deletable": false,
    "editable": false,
    "nbgrader": {
     "cell_type": "code",
     "checksum": "4a1adea14e17bb6442e986db13f02535",
     "grade": true,
     "grade_id": "cell-344dc8e8cd6b151c",
     "locked": true,
     "points": 5,
     "schema_version": 3,
     "solution": false
    }
   },
   "outputs": [],
   "source": [
    "# Hidden Test\n",
    "# 5 Marks"
   ]
  },
  {
   "cell_type": "code",
   "execution_count": 375,
   "metadata": {
    "ExecuteTime": {
     "end_time": "2019-03-19T06:51:15.538467Z",
     "start_time": "2019-03-19T06:51:15.530328Z"
    },
    "deletable": false,
    "editable": false,
    "nbgrader": {
     "cell_type": "code",
     "checksum": "85b1ca29bfff845fd26dc907a312f8d6",
     "grade": true,
     "grade_id": "cell-50b119c707748336",
     "locked": true,
     "points": 4,
     "schema_version": 3,
     "solution": false
    }
   },
   "outputs": [],
   "source": [
    "# Hidden Test\n",
    "# 4 Marks"
   ]
  },
  {
   "cell_type": "markdown",
   "metadata": {
    "deletable": false,
    "editable": false,
    "nbgrader": {
     "cell_type": "markdown",
     "checksum": "95a5a2cedc2dbcc88e7bb9d460a1f5f1",
     "grade": false,
     "grade_id": "cell-19fc40ab68205605",
     "locked": true,
     "schema_version": 3,
     "solution": false
    }
   },
   "source": [
    "## Question 3 - 15 Marks\n",
    "\n",
    "Write a function, `householdersQR` that implements the householders method for QR decomposition. That is, the function takes in a matrix as input and decomposes it into Q and R, which the function should return."
   ]
  },
  {
   "cell_type": "code",
   "execution_count": 411,
   "metadata": {},
   "outputs": [],
   "source": [
    "def find_P1(A):\n",
    "    x1 = A[0:,0]\n",
    "    alpha1 = -np.sign(x1[0])*LA.norm(x1)\n",
    "    e = np.zeros(len(x1))\n",
    "    e[0]=1\n",
    "    u1 = x1-(alpha1*e)\n",
    "    w = u1/LA.norm(u1,2)\n",
    "    P1 = np.eye(len(x1))-(2*np.outer(w,w))\n",
    "    \n",
    "    return P1"
   ]
  },
  {
   "cell_type": "code",
   "execution_count": 412,
   "metadata": {},
   "outputs": [],
   "source": [
    "def find_P2(P1):\n",
    "    x2 = P1[1:,1]\n",
    "    n = len(x2)\n",
    "    alpha2 = -np.sign(x2[0])*LA.norm(x2,2)\n",
    "    e2 = np.zeros(len(x2))\n",
    "    e2[0]=1\n",
    "    u2 = x2-(alpha2*e2)\n",
    "    w2 = u2/LA.norm(u2,2)\n",
    "    H2 = np.eye(n) - 2*np.outer(w2,w2)\n",
    "    P2 = np.identity(len(P1))\n",
    "    P2[1:,1:]=H2\n",
    "#    print (P2)\n",
    "    return P2"
   ]
  },
  {
   "cell_type": "code",
   "execution_count": 413,
   "metadata": {
    "ExecuteTime": {
     "end_time": "2019-03-19T06:51:15.546709Z",
     "start_time": "2019-03-19T06:51:15.540079Z"
    },
    "deletable": false,
    "nbgrader": {
     "cell_type": "code",
     "checksum": "2d7a9db4fe20132bf964cc84d43c77d2",
     "grade": false,
     "grade_id": "cell-710cde05cab39538",
     "locked": false,
     "schema_version": 3,
     "solution": true
    }
   },
   "outputs": [],
   "source": [
    "def householdersQR(A):\n",
    "    P1 = find_P1(A)\n",
    "    A2 = P1@A\n",
    "    P2 = find_P2(A2)\n",
    "    R = P2 @ A2\n",
    "    Q = P1@P2\n",
    "        \n",
    "#    print (\"q is \" , Q)\n",
    "#    print (\"r is \", R)\n",
    "    return [Q, R]\n",
    "\n",
    "    raise NotImplementedError()"
   ]
  },
  {
   "cell_type": "code",
   "execution_count": 414,
   "metadata": {
    "ExecuteTime": {
     "end_time": "2019-03-19T06:51:15.557420Z",
     "start_time": "2019-03-19T06:51:15.548410Z"
    },
    "deletable": false,
    "editable": false,
    "nbgrader": {
     "cell_type": "code",
     "checksum": "5b2cd8c62ba37776906cee6e0d462ae4",
     "grade": true,
     "grade_id": "cell-3ff78f1e6efca888",
     "locked": true,
     "points": 1,
     "schema_version": 3,
     "solution": false
    }
   },
   "outputs": [
    {
     "name": "stdout",
     "output_type": "stream",
     "text": [
      "Test case passed!!!\n"
     ]
    }
   ],
   "source": [
    "# Run this test cell to check your code\n",
    "# Do not delete this cell\n",
    "# 1 mark\n",
    "# Unit test\n",
    "A  = np.array([[2, 1, 0], \n",
    "              [1, 3, 1], \n",
    "              [0, 1, 4]])\n",
    "t1  = np.array([[-0.894427,  0.408248,  0.182574],\n",
    "                [-0.447214, -0.816497, -0.365148],\n",
    "                [ 0.      , -0.408248,  0.912871]])\n",
    "t2  = np.array([[-2.236068, -2.236068, -0.447214],\n",
    "                [ 0.      , -2.44949 , -2.44949 ],\n",
    "                [ 0.      ,  0.      ,  3.286335]])\n",
    "\n",
    "nt.assert_almost_equal(householdersQR(A)[0], t1, decimal=6)\n",
    "print('Test case passed!!!')"
   ]
  },
  {
   "cell_type": "code",
   "execution_count": 415,
   "metadata": {
    "ExecuteTime": {
     "end_time": "2019-03-19T06:51:15.566898Z",
     "start_time": "2019-03-19T06:51:15.559452Z"
    },
    "deletable": false,
    "editable": false,
    "nbgrader": {
     "cell_type": "code",
     "checksum": "1012e11251bf84d6d77d243e2d4a3c8e",
     "grade": true,
     "grade_id": "cell-189eb1bf5bce19ed",
     "locked": true,
     "points": 1,
     "schema_version": 3,
     "solution": false
    }
   },
   "outputs": [
    {
     "name": "stdout",
     "output_type": "stream",
     "text": [
      "Test case passed!!!\n"
     ]
    }
   ],
   "source": [
    "# Run this test cell to check your code\n",
    "# Do not delete this cell\n",
    "# 1 mark\n",
    "# Unit test\n",
    "A  = np.array([[2, 1, 0], \n",
    "              [1, 3, 1], \n",
    "              [0, 1, 4]])\n",
    "t1  = np.array([[-0.894427,  0.408248,  0.182574],\n",
    "                [-0.447214, -0.816497, -0.365148],\n",
    "                [ 0.      , -0.408248,  0.912871]])\n",
    "t2  = np.array([[-2.236068, -2.236068, -0.447214],\n",
    "                [ 0.      , -2.44949 , -2.44949 ],\n",
    "                [ 0.      ,  0.      ,  3.286335]])\n",
    "\n",
    "nt.assert_almost_equal(householdersQR(A)[1], t2, decimal=6)\n",
    "print('Test case passed!!!')"
   ]
  },
  {
   "cell_type": "code",
   "execution_count": 416,
   "metadata": {
    "ExecuteTime": {
     "end_time": "2019-03-19T06:51:15.578080Z",
     "start_time": "2019-03-19T06:51:15.568432Z"
    },
    "deletable": false,
    "editable": false,
    "nbgrader": {
     "cell_type": "code",
     "checksum": "28a4e0d59bcda0ef44d5b28d000e5b07",
     "grade": true,
     "grade_id": "cell-c19f04fa1159d8ce",
     "locked": true,
     "points": 4,
     "schema_version": 3,
     "solution": false
    }
   },
   "outputs": [],
   "source": [
    "# Hidden Test\n",
    "# 4 Marks"
   ]
  },
  {
   "cell_type": "code",
   "execution_count": 417,
   "metadata": {
    "ExecuteTime": {
     "end_time": "2019-03-19T06:51:15.587573Z",
     "start_time": "2019-03-19T06:51:15.580226Z"
    },
    "deletable": false,
    "editable": false,
    "nbgrader": {
     "cell_type": "code",
     "checksum": "f661e268f1484475c904531e978839f8",
     "grade": true,
     "grade_id": "cell-7919bf715ed34f23",
     "locked": true,
     "points": 4,
     "schema_version": 3,
     "solution": false
    }
   },
   "outputs": [],
   "source": [
    "# Hidden Test\n",
    "# 4 Marks"
   ]
  },
  {
   "cell_type": "code",
   "execution_count": 418,
   "metadata": {
    "ExecuteTime": {
     "end_time": "2019-03-19T06:51:15.607047Z",
     "start_time": "2019-03-19T06:51:15.589238Z"
    },
    "deletable": false,
    "editable": false,
    "nbgrader": {
     "cell_type": "code",
     "checksum": "66af45ef775b606a95f1ac635729be46",
     "grade": true,
     "grade_id": "cell-013e6fd480dde1fe",
     "locked": true,
     "points": 5,
     "schema_version": 3,
     "solution": false
    }
   },
   "outputs": [],
   "source": [
    "# Hidden Test\n",
    "# 5 Marks"
   ]
  },
  {
   "cell_type": "markdown",
   "metadata": {
    "deletable": false,
    "editable": false,
    "nbgrader": {
     "cell_type": "markdown",
     "checksum": "c727e0bc358f0c4e40c10a5b8d3a994c",
     "grade": false,
     "grade_id": "cell-fc9a3f1069fd8d8d",
     "locked": true,
     "schema_version": 3,
     "solution": false
    }
   },
   "source": [
    "## Question 4 - 10 Marks\n",
    "\n",
    "Write a function, `singularValues`, that takes a matrix as input and returns an array of its **singular** values. You may not use the builtin SVD functions (hint: the decomposition is not even required)."
   ]
  },
  {
   "cell_type": "code",
   "execution_count": 360,
   "metadata": {
    "ExecuteTime": {
     "end_time": "2019-03-19T06:51:15.616722Z",
     "start_time": "2019-03-19T06:51:15.609273Z"
    },
    "deletable": false,
    "nbgrader": {
     "cell_type": "code",
     "checksum": "34fb88c1e01a7d0fffeec731f9212540",
     "grade": false,
     "grade_id": "cell-1e4102e02313f36c",
     "locked": false,
     "schema_version": 3,
     "solution": true
    }
   },
   "outputs": [],
   "source": [
    "def singularValues(A):\n",
    "    A_T = np.transpose(A)\n",
    "    ATA = A_T @ A\n",
    "#    print (ATA)\n",
    "    x, v = LA.eig(ATA)\n",
    "#    print (x)\n",
    "    singular_vals = []\n",
    "    for i in range (0, len(x)):\n",
    "        singular_vals.append(+sqrt(x[i]))\n",
    "    \n",
    "    return singular_vals\n",
    "        \n",
    "    raise NotImplementedError()"
   ]
  },
  {
   "cell_type": "code",
   "execution_count": 361,
   "metadata": {
    "ExecuteTime": {
     "end_time": "2019-03-19T06:51:15.628795Z",
     "start_time": "2019-03-19T06:51:15.619375Z"
    },
    "deletable": false,
    "editable": false,
    "nbgrader": {
     "cell_type": "code",
     "checksum": "7b5959d6a7f2ab7c3f5868479f4b78fa",
     "grade": true,
     "grade_id": "cell-7520d0c8b33d1f11",
     "locked": true,
     "points": 1,
     "schema_version": 3,
     "solution": false
    }
   },
   "outputs": [
    {
     "name": "stdout",
     "output_type": "stream",
     "text": [
      "Test case passed!!!\n"
     ]
    }
   ],
   "source": [
    "# Run this test cell to check your code\n",
    "# Do not delete this cell\n",
    "# 1 mark\n",
    "# Unit test\n",
    "A = np.array([[1, 2], [2, 2], [2, 1]])\n",
    "t1 = np.array([4.123106, 1.      ])\n",
    "nt.assert_almost_equal(singularValues(A), t1, decimal=6)\n",
    "print('Test case passed!!!')"
   ]
  },
  {
   "cell_type": "code",
   "execution_count": 362,
   "metadata": {
    "ExecuteTime": {
     "end_time": "2019-03-19T06:51:15.637105Z",
     "start_time": "2019-03-19T06:51:15.630608Z"
    },
    "deletable": false,
    "editable": false,
    "nbgrader": {
     "cell_type": "code",
     "checksum": "8efd88eef1783668928dad4fe78de7bf",
     "grade": true,
     "grade_id": "cell-4936c9be07a6af83",
     "locked": true,
     "points": 9,
     "schema_version": 3,
     "solution": false
    }
   },
   "outputs": [],
   "source": [
    "# Hidden Test\n",
    "# 9 Marks"
   ]
  },
  {
   "cell_type": "markdown",
   "metadata": {
    "deletable": false,
    "editable": false,
    "nbgrader": {
     "cell_type": "markdown",
     "checksum": "104716cf8e68648035fe9afc82614281",
     "grade": false,
     "grade_id": "cell-a1d2a3b501e666d3",
     "locked": true,
     "schema_version": 3,
     "solution": false,
     "task": false
    }
   },
   "source": [
    "## Question 5 - 10 Marks\n",
    "Write a function that implements Householders Method. The function should take as input, a symmetric matrix `A` and return the final similar tridiagonal matrix."
   ]
  },
  {
   "cell_type": "code",
   "execution_count": 32,
   "metadata": {},
   "outputs": [],
   "source": [
    "def find_P(A,i):\n",
    "    x = A[i-1][i:]\n",
    "    n = len(x)\n",
    "    alpha = -np.sign(x[0])*LA.norm(x,2)\n",
    "    e = np.zeros(len(x))\n",
    "    e[0]=1\n",
    "    u = x-(alpha*e)\n",
    "    w = u/LA.norm(u,2)\n",
    "    H = np.eye(n) - 2*np.outer(w,w)\n",
    "    P = np.identity(len(A))\n",
    "    P[i:,i:]=H\n",
    "    return P"
   ]
  },
  {
   "cell_type": "code",
   "execution_count": 33,
   "metadata": {
    "deletable": false,
    "nbgrader": {
     "cell_type": "code",
     "checksum": "967e915050e6930076e13d12dc1c3cce",
     "grade": false,
     "grade_id": "cell-a9e60d02638958c9",
     "locked": false,
     "schema_version": 3,
     "solution": true,
     "task": false
    }
   },
   "outputs": [],
   "source": [
    "def householders(A):\n",
    "    i = 1\n",
    "    P = find_P(A,i)\n",
    "    k = 0\n",
    "    while k < (len(A)-2):\n",
    "        A = np.matmul(P,np.matmul(A,P))\n",
    "        i +=1\n",
    "        P = find_P(A,i)\n",
    "        k +=1   \n",
    "    return A\n",
    "\n",
    "    raise NotImplementedError()"
   ]
  },
  {
   "cell_type": "code",
   "execution_count": 34,
   "metadata": {
    "deletable": false,
    "editable": false,
    "nbgrader": {
     "cell_type": "code",
     "checksum": "e9f278de7650b1458163f7aefb75be87",
     "grade": true,
     "grade_id": "cell-226e9462fdd2f558",
     "locked": true,
     "points": 1,
     "schema_version": 3,
     "solution": false,
     "task": false
    }
   },
   "outputs": [
    {
     "name": "stdout",
     "output_type": "stream",
     "text": [
      "Test case passed!!!\n"
     ]
    }
   ],
   "source": [
    "# Run this test cell to check your code\n",
    "# Do not delete this cell\n",
    "# 1 mark\n",
    "# Unit test\n",
    "A = np.array([[3, 2, 1, 2], \n",
    "              [2, -1, 1, 2], \n",
    "              [1, 1, 4, 3], \n",
    "              [2, 2, 3, 1]])\n",
    "t1 = np.array([[ 3.      , -3.      , -0.      ,  0.      ],\n",
    "       [-3.      ,  4.      ,  3.162278,  0.      ],\n",
    "       [-0.      ,  3.162278,  2.      ,  1.      ],\n",
    "       [ 0.      ,  0.      ,  1.      , -2.      ]])\n",
    "nt.assert_array_almost_equal(householders(A), t1)\n",
    "print('Test case passed!!!')"
   ]
  },
  {
   "cell_type": "code",
   "execution_count": 35,
   "metadata": {
    "deletable": false,
    "editable": false,
    "nbgrader": {
     "cell_type": "code",
     "checksum": "f94838e93da0a0db00b14507f218acef",
     "grade": true,
     "grade_id": "cell-86faa93a7c6ee6a8",
     "locked": true,
     "points": 9,
     "schema_version": 3,
     "solution": false,
     "task": false
    }
   },
   "outputs": [],
   "source": [
    "# Hidden test\n",
    "# No output will be produced\n",
    "# 9 marks"
   ]
  },
  {
   "cell_type": "code",
   "execution_count": null,
   "metadata": {},
   "outputs": [],
   "source": []
  }
 ],
 "metadata": {
  "@webio": {
   "lastCommId": "d5dd775311294a60993447072e33969c",
   "lastKernelId": "b8d5b971-72cb-47be-a2a5-ffb36e732894"
  },
  "kernelspec": {
   "display_name": "Python 3",
   "language": "python",
   "name": "python3"
  },
  "language_info": {
   "codemirror_mode": {
    "name": "ipython",
    "version": 3
   },
   "file_extension": ".py",
   "mimetype": "text/x-python",
   "name": "python",
   "nbconvert_exporter": "python",
   "pygments_lexer": "ipython3",
   "version": "3.7.4"
  },
  "latex_envs": {
   "LaTeX_envs_menu_present": true,
   "autoclose": false,
   "autocomplete": true,
   "bibliofile": "biblio.bib",
   "cite_by": "apalike",
   "current_citInitial": 1,
   "eqLabelWithNumbers": true,
   "eqNumInitial": 1,
   "hotkeys": {
    "equation": "Ctrl-E",
    "itemize": "Ctrl-I"
   },
   "labels_anchors": false,
   "latex_user_defs": false,
   "report_style_numbering": false,
   "user_envs_cfg": false
  },
  "varInspector": {
   "cols": {
    "lenName": 16,
    "lenType": 16,
    "lenVar": 40
   },
   "kernels_config": {
    "python": {
     "delete_cmd_postfix": "",
     "delete_cmd_prefix": "del ",
     "library": "var_list.py",
     "varRefreshCmd": "print(var_dic_list())"
    },
    "r": {
     "delete_cmd_postfix": ") ",
     "delete_cmd_prefix": "rm(",
     "library": "var_list.r",
     "varRefreshCmd": "cat(var_dic_list()) "
    }
   },
   "types_to_exclude": [
    "module",
    "function",
    "builtin_function_or_method",
    "instance",
    "_Feature"
   ],
   "window_display": false
  }
 },
 "nbformat": 4,
 "nbformat_minor": 2
}
