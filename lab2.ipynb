{
 "cells": [
  {
   "cell_type": "code",
   "execution_count": 4,
   "metadata": {
    "ExecuteTime": {
     "end_time": "2019-02-19T11:10:14.480906Z",
     "start_time": "2019-02-19T11:10:14.305441Z"
    }
   },
   "outputs": [],
   "source": [
    "# Initialisation Cell\n",
    "from matplotlib import pyplot as plt\n",
    "import math\n",
    "from math import *\n",
    "import numpy as np\n",
    "from numpy import linalg as LA\n",
    "import numpy.testing as nt\n",
    "np.set_printoptions(suppress=True, precision=6)"
   ]
  },
  {
   "cell_type": "markdown",
   "metadata": {
    "deletable": false,
    "editable": false,
    "nbgrader": {
     "cell_type": "markdown",
     "checksum": "b83e40f9b7c769ee74ee2961b646181c",
     "grade": false,
     "grade_id": "cell-d7bc46b79f8c1a3c",
     "locked": true,
     "schema_version": 3,
     "solution": false
    }
   },
   "source": [
    "# Numerical Analysis III - Lab 2\n",
    "\n",
    "\n",
    "## Instructions\n",
    "\n",
    "* Read all the instructions carefully.\n",
    "* **Numpy** has a help file for every function if you get stuck. See: https://docs.scipy.org/doc/numpy-1.15.4/reference/\n",
    "* See these useful links:\n",
    "    * https://docs.scipy.org/doc/numpy/user/numpy-for-matlab-users.html\n",
    "    * https://docs.scipy.org/doc/numpy/user/quickstart.html\n",
    "* **Numpy** is not always required.\n",
    "* There are also numerous sources available on the internet, Google is your friend!"
   ]
  },
  {
   "cell_type": "markdown",
   "metadata": {
    "deletable": false,
    "editable": false,
    "nbgrader": {
     "cell_type": "markdown",
     "checksum": "4166d0129a7786167447c128ab8f6d0c",
     "grade": false,
     "grade_id": "cell-1851343bf8a990a7",
     "locked": true,
     "schema_version": 3,
     "solution": false
    }
   },
   "source": [
    "# Warm-up Exercises\n",
    "\n",
    "Complete the following warm-up tasks without the use of numpy.\n",
    "\n",
    "## Question 1\n",
    "\n",
    "Write a function that takes as input a vector `arr`. The function should return both the minimum and maximum (in this order) possible sums utilising `n - 1` elements of the input vector, where `n` is the length of the vector."
   ]
  },
  {
   "cell_type": "code",
   "execution_count": 23,
   "metadata": {
    "ExecuteTime": {
     "end_time": "2019-02-19T11:10:14.487699Z",
     "start_time": "2019-02-19T11:10:14.482896Z"
    },
    "deletable": false,
    "nbgrader": {
     "cell_type": "code",
     "checksum": "9f5c09b994a5181e040d0b00d21ecf5d",
     "grade": false,
     "grade_id": "cell-7c407948d50a4b28",
     "locked": false,
     "schema_version": 3,
     "solution": true
    }
   },
   "outputs": [],
   "source": [
    "# Question 1\n",
    "def miniMaxSum(arr):\n",
    "    arr.sort()\n",
    "    sum1 =0\n",
    "    for num in arr:\n",
    "        sum1 +=num\n",
    "    return [sum1-arr[-1],sum1-arr[0]]\n",
    "            \n",
    "    raise NotImplementedError()"
   ]
  },
  {
   "cell_type": "code",
   "execution_count": 24,
   "metadata": {
    "ExecuteTime": {
     "end_time": "2019-02-19T11:10:14.498304Z",
     "start_time": "2019-02-19T11:10:14.489277Z"
    },
    "deletable": false,
    "editable": false,
    "nbgrader": {
     "cell_type": "code",
     "checksum": "744c50ea961cd3fda91585a31055668c",
     "grade": true,
     "grade_id": "cell-c3d4eb53c5473254",
     "locked": true,
     "points": 1,
     "schema_version": 3,
     "solution": false
    }
   },
   "outputs": [
    {
     "name": "stdout",
     "output_type": "stream",
     "text": [
      "Test case passed!!!\n"
     ]
    }
   ],
   "source": [
    "# Run this test cell to check your code\n",
    "# Do not delete this cell\n",
    "# 1 mark\n",
    "# Unit test\n",
    "arr = [1, 2, 3, 4, 5]\n",
    "assert(miniMaxSum(arr)[0] == 10)\n",
    "print('Test case passed!!!')"
   ]
  },
  {
   "cell_type": "code",
   "execution_count": 25,
   "metadata": {
    "ExecuteTime": {
     "end_time": "2019-02-19T11:10:14.505868Z",
     "start_time": "2019-02-19T11:10:14.501293Z"
    },
    "deletable": false,
    "editable": false,
    "nbgrader": {
     "cell_type": "code",
     "checksum": "aaa8880cae691139183ad0d9a259ac32",
     "grade": true,
     "grade_id": "cell-7ceb3dbc5c280a5b",
     "locked": true,
     "points": 1,
     "schema_version": 3,
     "solution": false
    }
   },
   "outputs": [
    {
     "name": "stdout",
     "output_type": "stream",
     "text": [
      "Test case passed!!!\n"
     ]
    }
   ],
   "source": [
    "# Run this test cell to check your code\n",
    "# Do not delete this cell\n",
    "# 1 mark\n",
    "# Unit test\n",
    "arr = [1, 2, 3, 4, 5]\n",
    "assert(miniMaxSum(arr)[1] == 14)\n",
    "print('Test case passed!!!')"
   ]
  },
  {
   "cell_type": "code",
   "execution_count": 26,
   "metadata": {
    "ExecuteTime": {
     "end_time": "2019-02-19T11:10:14.512479Z",
     "start_time": "2019-02-19T11:10:14.508344Z"
    },
    "deletable": false,
    "editable": false,
    "nbgrader": {
     "cell_type": "code",
     "checksum": "700d84f22200875707e41dbd0d166ba9",
     "grade": true,
     "grade_id": "cell-9113e57a7387853a",
     "locked": true,
     "points": 4,
     "schema_version": 3,
     "solution": false
    }
   },
   "outputs": [],
   "source": [
    "# Hidden test\n",
    "# No output will be produced\n",
    "# 4 marks"
   ]
  },
  {
   "cell_type": "code",
   "execution_count": 27,
   "metadata": {
    "ExecuteTime": {
     "end_time": "2019-02-19T11:10:14.544852Z",
     "start_time": "2019-02-19T11:10:14.514033Z"
    },
    "deletable": false,
    "editable": false,
    "nbgrader": {
     "cell_type": "code",
     "checksum": "cef9798a2274bfb2ff95d71d5b2a0f51",
     "grade": true,
     "grade_id": "cell-e655ad8b569be729",
     "locked": true,
     "points": 4,
     "schema_version": 3,
     "solution": false
    }
   },
   "outputs": [],
   "source": [
    "# Hidden test\n",
    "# No output will be produced\n",
    "# 4 marks"
   ]
  },
  {
   "cell_type": "markdown",
   "metadata": {
    "deletable": false,
    "editable": false,
    "nbgrader": {
     "cell_type": "markdown",
     "checksum": "a81d288f95f7e4766f1b6b22f292bac0",
     "grade": false,
     "grade_id": "cell-4dc902210efdd197",
     "locked": true,
     "schema_version": 3,
     "solution": false
    }
   },
   "source": [
    "## Question 2\n",
    "\n",
    "Write a function that takes as input a string `s` containing a time in 12-hour format (i.e. hh:mm:ssAM or hh:mm:ssPM). The function should return the time as a string in 24-hour format."
   ]
  },
  {
   "cell_type": "code",
   "execution_count": 71,
   "metadata": {
    "ExecuteTime": {
     "end_time": "2019-02-19T11:10:14.554587Z",
     "start_time": "2019-02-19T11:10:14.546675Z"
    },
    "deletable": false,
    "nbgrader": {
     "cell_type": "code",
     "checksum": "60a1868655509c8dc054673b1274dca6",
     "grade": false,
     "grade_id": "cell-e49c3e784dfa3bcf",
     "locked": false,
     "schema_version": 3,
     "solution": true
    }
   },
   "outputs": [],
   "source": [
    "# Question 2\n",
    "def timeConversion(s):\n",
    "    if str(s[-2:])==\"PM\"and (s[0:2]!='12'):\n",
    "        return (str(int(s[0:2])+12)+str(s[2:-2]))    \n",
    "    elif str(s[-2:])==\"AM\"and (s[0:2]==\"12\"):\n",
    "        return (\"00\"+str(s[2:-2]))\n",
    "    else:  \n",
    "        return(s[0:-2])       \n",
    "    raise NotImplementedError()"
   ]
  },
  {
   "cell_type": "code",
   "execution_count": 72,
   "metadata": {
    "ExecuteTime": {
     "end_time": "2019-02-19T11:10:14.564401Z",
     "start_time": "2019-02-19T11:10:14.556130Z"
    },
    "deletable": false,
    "editable": false,
    "nbgrader": {
     "cell_type": "code",
     "checksum": "3caab5c17cce0c08f2df6428d674f6d3",
     "grade": true,
     "grade_id": "cell-f686d2ee886a505b",
     "locked": true,
     "points": 1,
     "schema_version": 3,
     "solution": false
    }
   },
   "outputs": [
    {
     "name": "stdout",
     "output_type": "stream",
     "text": [
      "Test case passed!!!\n"
     ]
    }
   ],
   "source": [
    "# Run this test cell to check your code\n",
    "# Do not delete this cell\n",
    "# 1 mark\n",
    "# Unit test\n",
    "s = '06:40:03AM'\n",
    "assert(timeConversion(s) == '06:40:03')\n",
    "print('Test case passed!!!')"
   ]
  },
  {
   "cell_type": "code",
   "execution_count": 73,
   "metadata": {
    "ExecuteTime": {
     "end_time": "2019-02-19T11:10:14.570806Z",
     "start_time": "2019-02-19T11:10:14.566683Z"
    },
    "deletable": false,
    "editable": false,
    "nbgrader": {
     "cell_type": "code",
     "checksum": "12ca2050591041bf7b351492b8c6d93e",
     "grade": true,
     "grade_id": "cell-8e6bc11a5ef23067",
     "locked": true,
     "points": 1,
     "schema_version": 3,
     "solution": false
    }
   },
   "outputs": [
    {
     "name": "stdout",
     "output_type": "stream",
     "text": [
      "Test case passed!!!\n"
     ]
    }
   ],
   "source": [
    "# Run this test cell to check your code\n",
    "# Do not delete this cell\n",
    "# 1 mark\n",
    "# Unit test\n",
    "s = '12:45:54AM'\n",
    "assert(timeConversion(s) == '00:45:54')\n",
    "print('Test case passed!!!')"
   ]
  },
  {
   "cell_type": "code",
   "execution_count": 74,
   "metadata": {
    "ExecuteTime": {
     "end_time": "2019-02-19T11:10:14.578532Z",
     "start_time": "2019-02-19T11:10:14.572628Z"
    },
    "deletable": false,
    "editable": false,
    "nbgrader": {
     "cell_type": "code",
     "checksum": "ee28d6a5a4d22ec92da8b98bf0a12456",
     "grade": true,
     "grade_id": "cell-8106834aef02cfa5",
     "locked": true,
     "points": 4,
     "schema_version": 3,
     "solution": false
    }
   },
   "outputs": [],
   "source": [
    "# Hidden test\n",
    "# No output will be produced\n",
    "# 4 marks"
   ]
  },
  {
   "cell_type": "code",
   "execution_count": 75,
   "metadata": {
    "ExecuteTime": {
     "end_time": "2019-02-19T11:10:14.585495Z",
     "start_time": "2019-02-19T11:10:14.580033Z"
    },
    "deletable": false,
    "editable": false,
    "nbgrader": {
     "cell_type": "code",
     "checksum": "5e9564193aa597c5ffb42d3a772661ee",
     "grade": true,
     "grade_id": "cell-7d12efcee6350eb5",
     "locked": true,
     "points": 4,
     "schema_version": 3,
     "solution": false
    }
   },
   "outputs": [],
   "source": [
    "# Hidden test\n",
    "# No output will be produced\n",
    "# 4 marks"
   ]
  },
  {
   "cell_type": "markdown",
   "metadata": {
    "deletable": false,
    "editable": false,
    "nbgrader": {
     "cell_type": "markdown",
     "checksum": "88ea9d0eff9d6c29c379618826011388",
     "grade": false,
     "grade_id": "cell-6ccf10128bf27a5a",
     "locked": true,
     "schema_version": 3,
     "solution": false
    }
   },
   "source": [
    "## Question 3\n",
    "\n",
    "Write a function that takes in an array, `ar`, of $n$ integers and a positive integer `k`. Find the number of $(i, j)$ pairs where $i < j$ and $ar(i) + ar(j)$ is divisible by `k`. The function should return the answer as a scalar."
   ]
  },
  {
   "cell_type": "code",
   "execution_count": 76,
   "metadata": {
    "ExecuteTime": {
     "end_time": "2019-02-19T11:10:14.592764Z",
     "start_time": "2019-02-19T11:10:14.587541Z"
    },
    "deletable": false,
    "nbgrader": {
     "cell_type": "code",
     "checksum": "fcdd7bfbd9e88be025b1eabf7e1e5fcf",
     "grade": false,
     "grade_id": "cell-9c5e35032c75619c",
     "locked": false,
     "schema_version": 3,
     "solution": true
    }
   },
   "outputs": [],
   "source": [
    "# Question 3\n",
    "def divisibleSumPairs(k, ar):\n",
    "    n = len(ar)\n",
    "    count = 0\n",
    "    for i in range (0, n):\n",
    "        for j in range(i+1,n):\n",
    "            if (ar[i]+ar[j])%k==0:\n",
    "                count +=1\n",
    "    return count\n",
    "    raise NotImplementedError()"
   ]
  },
  {
   "cell_type": "code",
   "execution_count": 77,
   "metadata": {
    "ExecuteTime": {
     "end_time": "2019-02-19T11:10:14.608085Z",
     "start_time": "2019-02-19T11:10:14.594267Z"
    },
    "deletable": false,
    "editable": false,
    "nbgrader": {
     "cell_type": "code",
     "checksum": "159bc7577a934c17b0644e0308fcfdfa",
     "grade": true,
     "grade_id": "cell-8b3a76ac686c4eb3",
     "locked": true,
     "points": 1,
     "schema_version": 3,
     "solution": false
    }
   },
   "outputs": [
    {
     "name": "stdout",
     "output_type": "stream",
     "text": [
      "Test case passed!!!\n"
     ]
    }
   ],
   "source": [
    "# Run this test cell to check your code\n",
    "# Do not delete this cell\n",
    "# 1 mark\n",
    "# Unit test\n",
    "k    = 3\n",
    "test = [1, 3, 2, 6, 1, 2]\n",
    "assert(divisibleSumPairs(k, test) == 5)\n",
    "print('Test case passed!!!')"
   ]
  },
  {
   "cell_type": "code",
   "execution_count": 78,
   "metadata": {
    "ExecuteTime": {
     "end_time": "2019-02-19T11:10:14.614680Z",
     "start_time": "2019-02-19T11:10:14.610160Z"
    },
    "deletable": false,
    "editable": false,
    "nbgrader": {
     "cell_type": "code",
     "checksum": "9243a478371d69ee971f0850f03a3e1b",
     "grade": true,
     "grade_id": "cell-3e916b818b7d8520",
     "locked": true,
     "points": 1,
     "schema_version": 3,
     "solution": false
    }
   },
   "outputs": [
    {
     "name": "stdout",
     "output_type": "stream",
     "text": [
      "Test case passed!!!\n"
     ]
    }
   ],
   "source": [
    "# Run this test cell to check your code\n",
    "# Do not delete this cell\n",
    "# 1 mark\n",
    "# Unit test\n",
    "k    = 3\n",
    "test = [1, 3, 2, 6, 1, 2, 5, 9, 4]\n",
    "assert(divisibleSumPairs(k, test) == 12)\n",
    "print('Test case passed!!!')"
   ]
  },
  {
   "cell_type": "code",
   "execution_count": 79,
   "metadata": {
    "ExecuteTime": {
     "end_time": "2019-02-19T11:10:14.621438Z",
     "start_time": "2019-02-19T11:10:14.616570Z"
    },
    "deletable": false,
    "editable": false,
    "nbgrader": {
     "cell_type": "code",
     "checksum": "7666374766a79b008ffe587932803d9c",
     "grade": true,
     "grade_id": "cell-cb69bc00177f59d2",
     "locked": true,
     "points": 4,
     "schema_version": 3,
     "solution": false
    }
   },
   "outputs": [],
   "source": [
    "# Hidden test\n",
    "# No output will be produced\n",
    "# 4 marks"
   ]
  },
  {
   "cell_type": "code",
   "execution_count": 80,
   "metadata": {
    "ExecuteTime": {
     "end_time": "2019-02-19T11:10:14.628337Z",
     "start_time": "2019-02-19T11:10:14.622956Z"
    },
    "deletable": false,
    "editable": false,
    "nbgrader": {
     "cell_type": "code",
     "checksum": "56b7e337b9e68aa741245ad78e917746",
     "grade": true,
     "grade_id": "cell-3855c1ecf8f4715e",
     "locked": true,
     "points": 4,
     "schema_version": 3,
     "solution": false
    }
   },
   "outputs": [],
   "source": [
    "# Hidden test\n",
    "# No output will be produced\n",
    "# 4 marks"
   ]
  },
  {
   "cell_type": "markdown",
   "metadata": {
    "deletable": false,
    "editable": false,
    "nbgrader": {
     "cell_type": "markdown",
     "checksum": "79653d2fbdbbd5f7ed9bc5b0ae5ad0dd",
     "grade": false,
     "grade_id": "cell-78cda84c5bfab0cf",
     "locked": true,
     "schema_version": 3,
     "solution": false
    }
   },
   "source": [
    "## Main Exercises"
   ]
  },
  {
   "cell_type": "markdown",
   "metadata": {
    "deletable": false,
    "editable": false,
    "nbgrader": {
     "cell_type": "markdown",
     "checksum": "4d3c539b390e545c4222fd911f3806de",
     "grade": false,
     "grade_id": "cell-2a888a478858bccd",
     "locked": true,
     "schema_version": 3,
     "solution": false
    }
   },
   "source": [
    "### Question 1\n",
    "\n",
    "Write a function that implements Givens Method. The function should take as input, a symmetric matrix `A` and return the final similar tridiagonal matrix.\n"
   ]
  },
  {
   "cell_type": "code",
   "execution_count": 102,
   "metadata": {},
   "outputs": [],
   "source": [
    "def annihilate_entry(A, i, j):\n",
    "    i_prime = i + 1\n",
    "    theta = -np.arctan(A[i][j] / A[i][i_prime])\n",
    "#     print('Theta: ', theta, ', want: ', -math.pi / 4)\n",
    "    P = np.identity(len(A))\n",
    "#     print('Cos : ', np.cos(theta), 'sin: ', np.sin(theta))\n",
    "    P[i_prime][i_prime] = np.cos(theta)\n",
    "    P[j][j] = np.cos(theta)\n",
    "    P[i_prime][j] = np.sin(theta)\n",
    "    P[j][i_prime] = -P[i_prime][j]\n",
    "#     print(P)\n",
    "    A_prime = P.transpose() @ A @ P\n",
    "    return A_prime"
   ]
  },
  {
   "cell_type": "code",
   "execution_count": 118,
   "metadata": {},
   "outputs": [],
   "source": [
    "def find_next_entry_to_kill(A):\n",
    "    for i in range(len(A)):\n",
    "        for j in range(i + 2, len(A)):\n",
    "            if A[i][j] != 0:\n",
    "                return i, j\n",
    "    return -1, -1"
   ]
  },
  {
   "cell_type": "code",
   "execution_count": 119,
   "metadata": {
    "ExecuteTime": {
     "end_time": "2019-02-19T11:27:50.951058Z",
     "start_time": "2019-02-19T11:27:50.943650Z"
    },
    "deletable": false,
    "nbgrader": {
     "cell_type": "code",
     "checksum": "cb6b7af26e525a294cf4f4e67745635d",
     "grade": false,
     "grade_id": "cell-73f72b49445c73cb",
     "locked": false,
     "schema_version": 3,
     "solution": true
    }
   },
   "outputs": [],
   "source": [
    "# Question 1\n",
    "def givens(A):\n",
    "    i, j = find_next_entry_to_kill(A)\n",
    "    while i > -1:\n",
    "        A = annihilate_entry(A, i, j)\n",
    "#         print('A this round: ', A)\n",
    "        i, j = find_next_entry_to_kill(A)\n",
    "#         print('Next non zero : ', i, j)\n",
    "    \n",
    "    return A\n",
    "    raise NotImplementedError()"
   ]
  },
  {
   "cell_type": "code",
   "execution_count": 120,
   "metadata": {
    "ExecuteTime": {
     "end_time": "2019-02-19T11:28:30.789232Z",
     "start_time": "2019-02-19T11:28:30.781000Z"
    },
    "deletable": false,
    "editable": false,
    "nbgrader": {
     "cell_type": "code",
     "checksum": "c8e54b95900867d804651b90694a5aca",
     "grade": true,
     "grade_id": "cell-53cd005a7b12cff9",
     "locked": true,
     "points": 1,
     "schema_version": 3,
     "solution": false
    }
   },
   "outputs": [
    {
     "name": "stdout",
     "output_type": "stream",
     "text": [
      "Test case passed!!!\n"
     ]
    }
   ],
   "source": [
    "# Run this test cell to check your code\n",
    "# Do not delete this cell\n",
    "# 1 mark\n",
    "# Unit test\n",
    "A = np.array([[1, sqrt(2), sqrt(2), 2], \n",
    "              [sqrt(2), -sqrt(2), -1, sqrt(2)], \n",
    "              [sqrt(2), -1, sqrt(2), sqrt(2)], \n",
    "              [2, sqrt(2), sqrt(2), -3]])\n",
    "t1 = np.array([[ 1.      ,  2.828427,  0.      ,  0.      ],\n",
    "               [ 2.828427,  0.      ,  1.414214, -0.      ],\n",
    "               [ 0.      ,  1.414214, -0.5     ,  2.5     ],\n",
    "               [ 0.      , -0.      ,  2.5     , -2.5     ]])\n",
    "nt.assert_array_almost_equal(givens(A), t1)\n",
    "print('Test case passed!!!')"
   ]
  },
  {
   "cell_type": "code",
   "execution_count": 121,
   "metadata": {
    "ExecuteTime": {
     "end_time": "2019-02-19T11:28:26.674232Z",
     "start_time": "2019-02-19T11:28:26.667266Z"
    },
    "deletable": false,
    "editable": false,
    "nbgrader": {
     "cell_type": "code",
     "checksum": "d7fd7885b5c26cf8a2a2a24b642c7aad",
     "grade": true,
     "grade_id": "cell-d1e7ed434cfed791",
     "locked": true,
     "points": 9,
     "schema_version": 3,
     "solution": false
    }
   },
   "outputs": [],
   "source": [
    "# Hidden test\n",
    "# No output will be produced\n",
    "# 9 marks"
   ]
  },
  {
   "cell_type": "markdown",
   "metadata": {
    "deletable": false,
    "editable": false,
    "nbgrader": {
     "cell_type": "markdown",
     "checksum": "f17b2094ae326cf59ebcdea73ebef759",
     "grade": false,
     "grade_id": "cell-f054c5dafac0bf14",
     "locked": true,
     "schema_version": 3,
     "solution": false
    }
   },
   "source": [
    "### Question 2\n",
    "Write a function that implements Householders Method. The function should take as input, a symmetric matrix `A` and return the final similar tridiagonal matrix."
   ]
  },
  {
   "cell_type": "code",
   "execution_count": 5,
   "metadata": {},
   "outputs": [],
   "source": [
    "def find_P(A,i):\n",
    "    x = A[i-1][i:]\n",
    "    n = len(x)\n",
    "    alpha = -np.sign(x[0])*LA.norm(x,2)\n",
    "    e = np.zeros(len(x))\n",
    "    e[0]=1\n",
    "    u = x-(alpha*e)\n",
    "    w = u/LA.norm(u,2)\n",
    "    H = np.eye(n) - 2*np.outer(w,w)\n",
    "    P = np.identity(len(A))\n",
    "    P[i:,i:]=H\n",
    "    return P"
   ]
  },
  {
   "cell_type": "code",
   "execution_count": 6,
   "metadata": {
    "ExecuteTime": {
     "end_time": "2019-02-19T11:30:51.035615Z",
     "start_time": "2019-02-19T11:30:51.027021Z"
    },
    "deletable": false,
    "nbgrader": {
     "cell_type": "code",
     "checksum": "f1fe42f51e1ae4b4d61a00e7cf97d7b4",
     "grade": false,
     "grade_id": "cell-87e89ffe6d3f1ae9",
     "locked": false,
     "schema_version": 3,
     "solution": true
    }
   },
   "outputs": [],
   "source": [
    "def householders(A):\n",
    "    i = 1\n",
    "    P = find_P(A,i)\n",
    "    k = 0\n",
    "    while k < (len(A)-2):\n",
    "        A = np.matmul(P,np.matmul(A,P))\n",
    "        i +=1\n",
    "        P = find_P(A,i)\n",
    "        k +=1   \n",
    "    return A\n",
    "\n",
    "    raise NotImplementedError()"
   ]
  },
  {
   "cell_type": "code",
   "execution_count": 7,
   "metadata": {
    "ExecuteTime": {
     "end_time": "2019-02-19T11:30:51.636843Z",
     "start_time": "2019-02-19T11:30:51.629502Z"
    },
    "deletable": false,
    "editable": false,
    "nbgrader": {
     "cell_type": "code",
     "checksum": "59d79b1f28fdfb90bc37a41ed606d028",
     "grade": true,
     "grade_id": "cell-853d580430377cf0",
     "locked": true,
     "points": 1,
     "schema_version": 3,
     "solution": false
    }
   },
   "outputs": [
    {
     "name": "stdout",
     "output_type": "stream",
     "text": [
      "Test case passed!!!\n"
     ]
    }
   ],
   "source": [
    "# Run this test cell to check your code\n",
    "# Do not delete this cell\n",
    "# 1 mark\n",
    "# Unit test\n",
    "A = np.array([[3, 2, 1, 2], \n",
    "              [2, -1, 1, 2], \n",
    "              [1, 1, 4, 3], \n",
    "              [2, 2, 3, 1]])\n",
    "t1 = np.array([[ 3.      , -3.      , -0.      ,  0.      ],\n",
    "       [-3.      ,  4.      ,  3.162278,  0.      ],\n",
    "       [-0.      ,  3.162278,  2.      ,  1.      ],\n",
    "       [ 0.      ,  0.      ,  1.      , -2.      ]])\n",
    "nt.assert_array_almost_equal(householders(A), t1)\n",
    "print('Test case passed!!!')"
   ]
  },
  {
   "cell_type": "code",
   "execution_count": 8,
   "metadata": {
    "ExecuteTime": {
     "end_time": "2019-02-19T11:30:53.916941Z",
     "start_time": "2019-02-19T11:30:53.909371Z"
    },
    "deletable": false,
    "editable": false,
    "nbgrader": {
     "cell_type": "code",
     "checksum": "7407b332f979831be5f4f1b5255d7c5e",
     "grade": true,
     "grade_id": "cell-6f854c4e52dccea2",
     "locked": true,
     "points": 9,
     "schema_version": 3,
     "solution": false
    }
   },
   "outputs": [],
   "source": [
    "# Hidden test\n",
    "# No output will be produced\n",
    "# 9 marks"
   ]
  },
  {
   "cell_type": "markdown",
   "metadata": {
    "deletable": false,
    "editable": false,
    "nbgrader": {
     "cell_type": "markdown",
     "checksum": "cccab25ee25fa5be630afc50dd29f72a",
     "grade": false,
     "grade_id": "cell-e7393406fdf114a5",
     "locked": true,
     "schema_version": 3,
     "solution": false
    }
   },
   "source": [
    "## Question 3\n",
    "\n",
    "Write a function that implements the QR method without shifting. The function should take as inputs, the matrix `A` and tolerance, `tol`. The function should return the approximate eigenvalues. It should also utilise the Householders method to do the required factorisation. Finally, the function should also return the number of iterations required until all off-diagonal elements of `A` are less than `tol`."
   ]
  },
  {
   "cell_type": "code",
   "execution_count": 163,
   "metadata": {},
   "outputs": [],
   "source": [
    "def find_P1(A):\n",
    "    x1 = A[0][0:]\n",
    "    alpha1 = -np.sign(x1[0])*LA.norm(x1)\n",
    "    e = np.zeros(len(x1))\n",
    "    e[0]=1\n",
    "    u1 = x1-(alpha1*e)\n",
    "    w = u1/LA.norm(u1,2)\n",
    "    P1 = np.eye(len(x1))-(2*np.outer(w,w))\n",
    "    \n",
    "    return P1"
   ]
  },
  {
   "cell_type": "code",
   "execution_count": 164,
   "metadata": {},
   "outputs": [],
   "source": [
    "def find_P2(P1):\n",
    "    x2 = P1[1][1:]\n",
    "    n = len(x2)\n",
    "    alpha2 = -np.sign(x2[0])*LA.norm(x2,2)\n",
    "    e2 = np.zeros(len(x2))\n",
    "    e2[0]=1\n",
    "    u2 = x2-(alpha2*e2)\n",
    "    w2 = u2/LA.norm(u2,2)\n",
    "    H2 = np.eye(n) - 2*np.outer(w2,w2)\n",
    "    P2 = np.identity(len(P1))\n",
    "    P2[1:,1:]=H2\n",
    "#    print (P2)\n",
    "    return P2"
   ]
  },
  {
   "cell_type": "code",
   "execution_count": 165,
   "metadata": {
    "ExecuteTime": {
     "end_time": "2019-02-19T11:31:48.553901Z",
     "start_time": "2019-02-19T11:31:48.542482Z"
    },
    "deletable": false,
    "nbgrader": {
     "cell_type": "code",
     "checksum": "94a2a44b12a7c50448869fc591ee77ee",
     "grade": false,
     "grade_id": "cell-c74287fcc3b8c4fa",
     "locked": false,
     "schema_version": 3,
     "solution": true
    }
   },
   "outputs": [],
   "source": [
    "def QR(A, tol):\n",
    "    count = 0\n",
    "    while abs(A[0][1]) > tol:\n",
    "        P1 = find_P1(A)\n",
    "        A2 = np.matmul(P1,A)\n",
    "        P2 = find_P2(A2)\n",
    "        R = P2 @ P1 @ A\n",
    "        Q = np.matmul(P1, P2)\n",
    "        \n",
    "        A = np.matmul(R,Q)\n",
    "        count +=1\n",
    "        diag = np.diagonal(A)\n",
    "        \n",
    "    return [diag, count]\n",
    "    \n",
    "    raise NotImplementedError()"
   ]
  },
  {
   "cell_type": "code",
   "execution_count": 166,
   "metadata": {
    "ExecuteTime": {
     "end_time": "2019-02-19T11:32:37.841998Z",
     "start_time": "2019-02-19T11:32:37.832575Z"
    },
    "deletable": false,
    "editable": false,
    "nbgrader": {
     "cell_type": "code",
     "checksum": "5cd9e542a228ebe83f537b4292c7ded2",
     "grade": true,
     "grade_id": "cell-311e18a74770bde8",
     "locked": true,
     "points": 1,
     "schema_version": 3,
     "solution": false
    }
   },
   "outputs": [
    {
     "name": "stdout",
     "output_type": "stream",
     "text": [
      "Test case passed!!!\n"
     ]
    }
   ],
   "source": [
    "# Run this test cell to check your code\n",
    "# Do not delete this cell\n",
    "# 1 mark\n",
    "# Unit test\n",
    "A   = np.array([[2, 1, 0], [1, 3, 1], [0, 1, 4]])\n",
    "tol = 1e-3\n",
    "t1  = np.array([4.73205 , 3.      , 1.267949])\n",
    "t2  = 19\n",
    "nt.assert_array_almost_equal(QR(A, tol)[0], t1)\n",
    "print('Test case passed!!!')"
   ]
  },
  {
   "cell_type": "code",
   "execution_count": 167,
   "metadata": {
    "ExecuteTime": {
     "end_time": "2019-02-19T11:33:14.189938Z",
     "start_time": "2019-02-19T11:33:14.178489Z"
    },
    "deletable": false,
    "editable": false,
    "nbgrader": {
     "cell_type": "code",
     "checksum": "92d8308f1b4dc685b316f052468b4bd4",
     "grade": true,
     "grade_id": "cell-21d8ebcd70cbf461",
     "locked": true,
     "points": 1,
     "schema_version": 3,
     "solution": false
    }
   },
   "outputs": [
    {
     "name": "stdout",
     "output_type": "stream",
     "text": [
      "Test case passed!!!\n"
     ]
    }
   ],
   "source": [
    "# Run this test cell to check your code\n",
    "# Do not delete this cell\n",
    "# 1 mark\n",
    "# Unit test\n",
    "A   = np.array([[2, 1, 0], \n",
    "                [1, 3, 1], \n",
    "                [0, 1, 4]])\n",
    "tol = 1e-3\n",
    "t1  = np.array([4.73205 , 3.      , 1.267949])\n",
    "t2  = 19\n",
    "assert(abs(QR(A, tol)[1] - t2) <= 2)\n",
    "print('Test case passed!!!')"
   ]
  },
  {
   "cell_type": "code",
   "execution_count": 168,
   "metadata": {
    "ExecuteTime": {
     "end_time": "2019-02-19T11:33:59.002065Z",
     "start_time": "2019-02-19T11:33:58.991034Z"
    },
    "deletable": false,
    "editable": false,
    "nbgrader": {
     "cell_type": "code",
     "checksum": "5a5f7240fb7f10956aa4e9448eeeafc3",
     "grade": true,
     "grade_id": "cell-09193f4d5c13da86",
     "locked": true,
     "points": 4,
     "schema_version": 3,
     "solution": false
    }
   },
   "outputs": [],
   "source": [
    "# Hidden test\n",
    "# No output will be produced\n",
    "# 4 marks"
   ]
  },
  {
   "cell_type": "code",
   "execution_count": 169,
   "metadata": {
    "ExecuteTime": {
     "end_time": "2019-02-19T11:34:00.551170Z",
     "start_time": "2019-02-19T11:34:00.541015Z"
    },
    "deletable": false,
    "editable": false,
    "nbgrader": {
     "cell_type": "code",
     "checksum": "90cb78bd1157ca20fb9944fb10de3658",
     "grade": true,
     "grade_id": "cell-8aef83b083fb306b",
     "locked": true,
     "points": 4,
     "schema_version": 3,
     "solution": false
    }
   },
   "outputs": [],
   "source": [
    "# Hidden test\n",
    "# No output will be produced\n",
    "# 4 marks"
   ]
  },
  {
   "cell_type": "markdown",
   "metadata": {
    "deletable": false,
    "editable": false,
    "nbgrader": {
     "cell_type": "markdown",
     "checksum": "6f37599c4c9e0a3dddb3928081eaff2a",
     "grade": false,
     "grade_id": "cell-00e402b38429aac5",
     "locked": true,
     "schema_version": 3,
     "solution": false
    }
   },
   "source": [
    "## Question 4\n",
    "\n",
    "Redo question (3), however, now implement the QR method with shifting using method 1 from the notes."
   ]
  },
  {
   "cell_type": "code",
   "execution_count": 212,
   "metadata": {},
   "outputs": [],
   "source": [
    "def find_P1(A):\n",
    "    x1 = A[0][0:]\n",
    "    alpha1 = -np.sign(x1[0])*LA.norm(x1)\n",
    "    e = np.zeros(len(x1))\n",
    "    e[0]=1\n",
    "    u1 = x1-(alpha1*e)\n",
    "    w = u1/LA.norm(u1,2)\n",
    "    P1 = np.eye(len(x1))-(2*np.outer(w,w))\n",
    "    \n",
    "    return P1"
   ]
  },
  {
   "cell_type": "code",
   "execution_count": 213,
   "metadata": {},
   "outputs": [],
   "source": [
    "def find_P2(P1):\n",
    "    x2 = P1[1][1:]\n",
    "    n = len(x2)\n",
    "    alpha2 = -np.sign(x2[0])*LA.norm(x2,2)\n",
    "    e2 = np.zeros(len(x2))\n",
    "    e2[0]=1\n",
    "    u2 = x2-(alpha2*e2)\n",
    "    w2 = u2/LA.norm(u2,2)\n",
    "    H2 = np.eye(n) - 2*np.outer(w2,w2)\n",
    "    P2 = np.identity(len(P1))\n",
    "    P2[1:,1:]=H2\n",
    "#    print (P2)\n",
    "    return P2"
   ]
  },
  {
   "cell_type": "code",
   "execution_count": 214,
   "metadata": {
    "ExecuteTime": {
     "end_time": "2019-02-19T11:34:40.971573Z",
     "start_time": "2019-02-19T11:34:40.964559Z"
    },
    "deletable": false,
    "nbgrader": {
     "cell_type": "code",
     "checksum": "39a1920413fdb83acbbde3e106332636",
     "grade": false,
     "grade_id": "cell-4b9df052ba2eba58",
     "locked": false,
     "schema_version": 3,
     "solution": true
    }
   },
   "outputs": [],
   "source": [
    "def QRshifting(A, tol):\n",
    "    count = 0\n",
    "    while abs(A[0][1]) > tol:\n",
    "        n = len(A)\n",
    "        c = A[n-1][n-1]\n",
    "        cI = c*np.identity(n)\n",
    "        A1 = A-cI\n",
    "        \n",
    "        P1 = find_P1(A1)\n",
    "\n",
    "        Aprime = np.matmul(P1,A1)\n",
    "        P2 = find_P2(Aprime)\n",
    "        R = P2 @ P1 @ A1\n",
    "        Q = np.matmul(P1, P2)\n",
    "\n",
    "        A = cI+(np.matmul(R,Q))\n",
    "        count +=1\n",
    "        diag = np.diagonal(A)\n",
    "#    print (A)\n",
    "#    print (count)\n",
    "        \n",
    "    return [diag, count]\n",
    "    raise NotImplementedError()\n"
   ]
  },
  {
   "cell_type": "code",
   "execution_count": 215,
   "metadata": {
    "ExecuteTime": {
     "end_time": "2019-02-19T11:34:46.897554Z",
     "start_time": "2019-02-19T11:34:46.888691Z"
    },
    "deletable": false,
    "editable": false,
    "nbgrader": {
     "cell_type": "code",
     "checksum": "84d938ddb899e1225397c10f327fd6fa",
     "grade": true,
     "grade_id": "cell-e492a96886ad818b",
     "locked": true,
     "points": 1,
     "schema_version": 3,
     "solution": false
    }
   },
   "outputs": [
    {
     "name": "stdout",
     "output_type": "stream",
     "text": [
      "Test case passed!!!\n"
     ]
    }
   ],
   "source": [
    "# Run this test cell to check your code\n",
    "# Do not delete this cell\n",
    "# 1 mark\n",
    "# Unit test\n",
    "A   = np.array([[2, 1, 0], [1, 3, 1], [0, 1, 4]])\n",
    "tol = tol\n",
    "t1  = np.array([1.26795 , 3.      , 4.732051])\n",
    "t2  = 10\n",
    "nt.assert_array_almost_equal(QRshifting(A, tol)[0], t1)\n",
    "print('Test case passed!!!')"
   ]
  },
  {
   "cell_type": "code",
   "execution_count": 216,
   "metadata": {
    "ExecuteTime": {
     "end_time": "2019-02-19T11:35:10.340714Z",
     "start_time": "2019-02-19T11:35:10.332024Z"
    },
    "deletable": false,
    "editable": false,
    "nbgrader": {
     "cell_type": "code",
     "checksum": "b80c65ae53b57468200adb0c090e9e38",
     "grade": true,
     "grade_id": "cell-4375df249928850b",
     "locked": true,
     "points": 1,
     "schema_version": 3,
     "solution": false
    }
   },
   "outputs": [
    {
     "name": "stdout",
     "output_type": "stream",
     "text": [
      "Test case passed!!!\n"
     ]
    }
   ],
   "source": [
    "# Run this test cell to check your code\n",
    "# Do not delete this cell\n",
    "# 1 mark\n",
    "# Unit test\n",
    "A   = np.array([[2, 1, 0], [1, 3, 1], [0, 1, 4]])\n",
    "tol = tol\n",
    "t1  = np.array([1.26795 , 3.      , 4.732051])\n",
    "t2  = 10\n",
    "assert(abs(QRshifting(A, tol)[1] - t2) <= 2)\n",
    "print('Test case passed!!!')"
   ]
  },
  {
   "cell_type": "code",
   "execution_count": 205,
   "metadata": {
    "ExecuteTime": {
     "end_time": "2019-02-19T11:35:11.572351Z",
     "start_time": "2019-02-19T11:35:11.560030Z"
    },
    "deletable": false,
    "editable": false,
    "nbgrader": {
     "cell_type": "code",
     "checksum": "4e1fb688babe279ed07ee4751a5aeb11",
     "grade": true,
     "grade_id": "cell-d1a3f937ef8838a7",
     "locked": true,
     "points": 4,
     "schema_version": 3,
     "solution": false
    }
   },
   "outputs": [],
   "source": [
    "# Hidden test\n",
    "# No output will be produced\n",
    "# 4 marks"
   ]
  },
  {
   "cell_type": "code",
   "execution_count": 206,
   "metadata": {
    "ExecuteTime": {
     "end_time": "2019-02-19T11:35:21.141756Z",
     "start_time": "2019-02-19T11:35:21.130295Z"
    },
    "deletable": false,
    "editable": false,
    "nbgrader": {
     "cell_type": "code",
     "checksum": "9e8b807019dc540185bb75f3d18a40bb",
     "grade": true,
     "grade_id": "cell-febac481f10aa638",
     "locked": true,
     "points": 4,
     "schema_version": 3,
     "solution": false
    }
   },
   "outputs": [],
   "source": [
    "# Hidden test\n",
    "# No output will be produced\n",
    "# 4 marks"
   ]
  },
  {
   "cell_type": "code",
   "execution_count": null,
   "metadata": {},
   "outputs": [],
   "source": []
  }
 ],
 "metadata": {
  "@webio": {
   "lastCommId": "8484fedb5b5c496b8dcd4e47ae23393e",
   "lastKernelId": "3177ad04-ce23-4968-8b02-5336f925a3c4"
  },
  "kernelspec": {
   "display_name": "Python 3",
   "language": "python",
   "name": "python3"
  },
  "language_info": {
   "codemirror_mode": {
    "name": "ipython",
    "version": 3
   },
   "file_extension": ".py",
   "mimetype": "text/x-python",
   "name": "python",
   "nbconvert_exporter": "python",
   "pygments_lexer": "ipython3",
   "version": "3.7.4"
  },
  "latex_envs": {
   "LaTeX_envs_menu_present": true,
   "autoclose": false,
   "autocomplete": true,
   "bibliofile": "biblio.bib",
   "cite_by": "apalike",
   "current_citInitial": 1,
   "eqLabelWithNumbers": true,
   "eqNumInitial": 1,
   "hotkeys": {
    "equation": "Ctrl-E",
    "itemize": "Ctrl-I"
   },
   "labels_anchors": false,
   "latex_user_defs": false,
   "report_style_numbering": false,
   "user_envs_cfg": false
  },
  "varInspector": {
   "cols": {
    "lenName": 16,
    "lenType": 16,
    "lenVar": 40
   },
   "kernels_config": {
    "python": {
     "delete_cmd_postfix": "",
     "delete_cmd_prefix": "del ",
     "library": "var_list.py",
     "varRefreshCmd": "print(var_dic_list())"
    },
    "r": {
     "delete_cmd_postfix": ") ",
     "delete_cmd_prefix": "rm(",
     "library": "var_list.r",
     "varRefreshCmd": "cat(var_dic_list()) "
    }
   },
   "types_to_exclude": [
    "module",
    "function",
    "builtin_function_or_method",
    "instance",
    "_Feature"
   ],
   "window_display": false
  }
 },
 "nbformat": 4,
 "nbformat_minor": 2
}
